{
 "cells": [
  {
   "cell_type": "markdown",
   "id": "0172a694",
   "metadata": {},
   "source": [
    "# 📞 Customer Care Interaction Analysis for a Premium Carwash Business\n",
    "\n",
    "Welcome to this data analysis project where I explore **real-life customer care interaction data** that I personally collected while working as a **Customer Care Representative** at a premium carwash brand serving high-end clientele across **10 branches**.\n",
    "\n",
    "---\n",
    "\n",
    "## 🚘 Business Context\n",
    "\n",
    "This project was born out of a **real operational need**: to understand and improve the **quality of customer service** across a growing network of luxury carwash locations. I single-handedly managed the **toll-free customer care line** that handled **all branches**, and I was actively involved in **visiting outlets**, ensuring **service consistency**, and escalating issues that directly impacted:\n",
    "\n",
    "- Client satisfaction 🧑‍💼  \n",
    "- Revenue retention 💰  \n",
    "- Operational efficiency ⚙️  \n",
    "\n",
    "Our clients — often owners of high-end vehicles — would call for a variety of reasons, including:\n",
    "\n",
    "- Inquiries about our **service packages and pricing**\n",
    "- **Clarifications** about bookings or delays\n",
    "- **Complaints** about service quality or missed appointments  \n",
    "- **Feedback** or requests for follow-ups\n",
    "\n",
    "Because we served premium customers, **trust was paramount**. Clients expected high responsiveness and professionalism. Their feedback often came with the belief that their concerns would be taken seriously — and it was my job to uphold that trust.\n",
    "\n",
    "Over time, I realized that collecting, analyzing, and acting upon customer interaction data could provide **data-driven recommendations** to:\n",
    "\n",
    "- Reduce repeat complaints  \n",
    "- Improve service turnaround time  \n",
    "- Identify underperforming branches  \n",
    "- Optimize staffing during peak periods  \n",
    "\n",
    "---\n",
    "\n",
    "## 🧩 Dataset Overview\n",
    "\n",
    "This dataset contains **anonymized records** of customer phone calls logged during service delivery. The key columns include:\n",
    "\n",
    "- **`date`** – Date of contact  \n",
    "- **`time`** – Time of contact  \n",
    "- **`phone`** – Customer's phone number (partially anonymized; a few missing)  \n",
    "- **`car_registration`** – Vehicle identifier (infrequently captured)  \n",
    "- **`reason`** – Stated reason for calling (e.g., delay, feedback, follow-up, inquiry)  \n",
    "- **`response`** – How the call was resolved or handled  \n",
    "- **`location`** – Branch or outlet related to the complaint or service  \n",
    "\n",
    "📌 **Note**: While most phone numbers were captured, **car registration numbers and caller names were often missing**, a reflection of real-world constraints when managing a high-volume customer line manually.\n",
    "\n",
    "---\n",
    "\n",
    "## 🎯 Project Goals\n",
    "\n",
    "This analysis was designed to serve multiple stakeholders:\n",
    "\n",
    "### 🧑‍💼 For Management:\n",
    "- Identify **peak call times** and **busiest days** to improve resource allocation  \n",
    "- Monitor **branch-level service quality** and spot outlets with repeated complaints  \n",
    "- Evaluate **customer satisfaction patterns** based on responses  \n",
    "\n",
    "### 👩‍💼 For Operations:\n",
    "- Highlight **common customer issues**, from service inquiries to complaints  \n",
    "- Reveal **locations requiring retraining** or escalation  \n",
    "- Support **proactive interventions** before issues harm brand perception  \n",
    "\n",
    "### 🧠 For Myself (as a Data Scientist):\n",
    "- Showcase **real-world data wrangling**, analysis, and insight communication  \n",
    "- Build a **portfolio-ready project** demonstrating business thinking and technical depth  \n",
    "- Solve a **business problem I personally experienced**, turning frontline work into a data-driven case study  \n",
    "\n",
    "---\n",
    "\n",
    "## 🛠️ Tools & Techniques Used\n",
    "\n",
    "| Category            | Tools / Methods |\n",
    "|---------------------|------------------|\n",
    "| **Programming**     | Python (Jupyter Notebook) |\n",
    "| **Data Wrangling**  | Pandas, NumPy |\n",
    "| **Visualization**   | Matplotlib, Seaborn |\n",
    "| **Feature Engineering** | Extracted hour, weekday, period of day, month |\n",
    "| **Exploratory Data Analysis (EDA)** | Counts, aggregations, value distributions |\n",
    "| **Business Insights** | Call volume by time/location/reason/response, trends over time |\n",
    "| **Exclusions/Filters** | Removed unknown callers, grouped recurring contacts |\n",
    "| **Communication**   | Clean visuals, markdown storytelling, recruiter-ready formatting |\n",
    "\n",
    "---\n",
    "\n",
    "## 💡 Real-World Application\n",
    "\n",
    "This is not a synthetic project. These insights can help real businesses:\n",
    "\n",
    "- **A carwash franchise** can know when to staff more agents or improve wait times  \n",
    "- **A customer experience team** can train staff on the most common complaint types  \n",
    "- **An operations manager** can identify branches where service issues are harming retention  \n",
    "\n",
    "> 💬 I turned my customer care role into a **data science project** by collecting, cleaning, and analyzing real customer call records — the kind of initiative and impact I aim to bring to future roles.\n",
    "\n",
    "---\n",
    "\n",
    "📌 **This project is part of my Data Science portfolio** and is designed to showcase end-to-end data analysis — from business understanding to technical execution — in a way that delivers **measurable value to decision-makers**.\n"
   ]
  },
  {
   "cell_type": "markdown",
   "id": "6d141f25",
   "metadata": {},
   "source": [
    "## Data Loading and Initial Exploration"
   ]
  },
  {
   "cell_type": "markdown",
   "id": "2ef12468",
   "metadata": {},
   "source": [
    "###📦 Import Libraries\n",
    "\n",
    "We import key libraries for data handling, visualization, and preprocessing.\n"
   ]
  },
  {
   "cell_type": "code",
   "execution_count": 2,
   "id": "79168616",
   "metadata": {},
   "outputs": [],
   "source": [
    "# Data manipulation\n",
    "import numpy as np\n",
    "import pandas as pd\n",
    "\n",
    "# Data visualization\n",
    "import matplotlib.pyplot as plt\n",
    "import seaborn as sns\n",
    "import plotly.express as px\n",
    "\n",
    "# Preprocessing\n",
    "from datetime import datetime\n",
    "from sklearn.preprocessing import LabelEncoder\n",
    "\n",
    "# Display and aesthetic settings\n",
    "pd.set_option('display.max_columns', None)\n",
    "sns.set(style=\"whitegrid\")\n"
   ]
  },
  {
   "cell_type": "code",
   "execution_count": 3,
   "id": "b98c7dbb",
   "metadata": {},
   "outputs": [
    {
     "data": {
      "application/vnd.microsoft.datawrangler.viewer.v0+json": {
       "columns": [
        {
         "name": "index",
         "rawType": "int64",
         "type": "integer"
        },
        {
         "name": "DATE",
         "rawType": "datetime64[ns]",
         "type": "datetime"
        },
        {
         "name": "TIME",
         "rawType": "object",
         "type": "unknown"
        },
        {
         "name": "NAME",
         "rawType": "object",
         "type": "unknown"
        },
        {
         "name": "PHONE ",
         "rawType": "object",
         "type": "unknown"
        },
        {
         "name": "CAR REG",
         "rawType": "object",
         "type": "unknown"
        },
        {
         "name": "TYPE",
         "rawType": "object",
         "type": "unknown"
        },
        {
         "name": "REASON FOR CALL",
         "rawType": "object",
         "type": "unknown"
        },
        {
         "name": "LOCATION/OUTLET",
         "rawType": "object",
         "type": "unknown"
        },
        {
         "name": "RESPONSE GIVEN/CONCLUSION",
         "rawType": "object",
         "type": "unknown"
        }
       ],
       "ref": "ca93b6ca-fa88-4e10-bfe8-01fe161e73a6",
       "rows": [
        [
         "0",
         null,
         null,
         null,
         null,
         null,
         null,
         null,
         null,
         null
        ],
        [
         "1",
         "2022-04-01 00:00:00",
         "12.50pm",
         null,
         "705157296",
         null,
         null,
         "Inquiry on directions",
         "Two Rivers",
         "Advised"
        ],
        [
         "2",
         null,
         "4.42pm",
         null,
         "722823562",
         null,
         null,
         "Inquiry on oil removal",
         "Garden City",
         "Advised"
        ],
        [
         "3",
         null,
         "7.00pm",
         null,
         "115270492",
         null,
         null,
         "Client wanted to pick key",
         "Mountain View",
         "Advised"
        ],
        [
         "4",
         null,
         null,
         null,
         null,
         null,
         null,
         null,
         null,
         null
        ]
       ],
       "shape": {
        "columns": 9,
        "rows": 5
       }
      },
      "text/html": [
       "<div>\n",
       "<style scoped>\n",
       "    .dataframe tbody tr th:only-of-type {\n",
       "        vertical-align: middle;\n",
       "    }\n",
       "\n",
       "    .dataframe tbody tr th {\n",
       "        vertical-align: top;\n",
       "    }\n",
       "\n",
       "    .dataframe thead th {\n",
       "        text-align: right;\n",
       "    }\n",
       "</style>\n",
       "<table border=\"1\" class=\"dataframe\">\n",
       "  <thead>\n",
       "    <tr style=\"text-align: right;\">\n",
       "      <th></th>\n",
       "      <th>DATE</th>\n",
       "      <th>TIME</th>\n",
       "      <th>NAME</th>\n",
       "      <th>PHONE</th>\n",
       "      <th>CAR REG</th>\n",
       "      <th>TYPE</th>\n",
       "      <th>REASON FOR CALL</th>\n",
       "      <th>LOCATION/OUTLET</th>\n",
       "      <th>RESPONSE GIVEN/CONCLUSION</th>\n",
       "    </tr>\n",
       "  </thead>\n",
       "  <tbody>\n",
       "    <tr>\n",
       "      <th>0</th>\n",
       "      <td>NaT</td>\n",
       "      <td>NaN</td>\n",
       "      <td>NaN</td>\n",
       "      <td>NaN</td>\n",
       "      <td>NaN</td>\n",
       "      <td>NaN</td>\n",
       "      <td>NaN</td>\n",
       "      <td>NaN</td>\n",
       "      <td>NaN</td>\n",
       "    </tr>\n",
       "    <tr>\n",
       "      <th>1</th>\n",
       "      <td>2022-04-01</td>\n",
       "      <td>12.50pm</td>\n",
       "      <td>NaN</td>\n",
       "      <td>705157296</td>\n",
       "      <td>NaN</td>\n",
       "      <td>NaN</td>\n",
       "      <td>Inquiry on directions</td>\n",
       "      <td>Two Rivers</td>\n",
       "      <td>Advised</td>\n",
       "    </tr>\n",
       "    <tr>\n",
       "      <th>2</th>\n",
       "      <td>NaT</td>\n",
       "      <td>4.42pm</td>\n",
       "      <td>NaN</td>\n",
       "      <td>722823562</td>\n",
       "      <td>NaN</td>\n",
       "      <td>NaN</td>\n",
       "      <td>Inquiry on oil removal</td>\n",
       "      <td>Garden City</td>\n",
       "      <td>Advised</td>\n",
       "    </tr>\n",
       "    <tr>\n",
       "      <th>3</th>\n",
       "      <td>NaT</td>\n",
       "      <td>7.00pm</td>\n",
       "      <td>NaN</td>\n",
       "      <td>115270492</td>\n",
       "      <td>NaN</td>\n",
       "      <td>NaN</td>\n",
       "      <td>Client wanted to pick key</td>\n",
       "      <td>Mountain View</td>\n",
       "      <td>Advised</td>\n",
       "    </tr>\n",
       "    <tr>\n",
       "      <th>4</th>\n",
       "      <td>NaT</td>\n",
       "      <td>NaN</td>\n",
       "      <td>NaN</td>\n",
       "      <td>NaN</td>\n",
       "      <td>NaN</td>\n",
       "      <td>NaN</td>\n",
       "      <td>NaN</td>\n",
       "      <td>NaN</td>\n",
       "      <td>NaN</td>\n",
       "    </tr>\n",
       "  </tbody>\n",
       "</table>\n",
       "</div>"
      ],
      "text/plain": [
       "        DATE     TIME NAME     PHONE  CAR REG TYPE            REASON FOR CALL  \\\n",
       "0        NaT      NaN  NaN        NaN     NaN  NaN                        NaN   \n",
       "1 2022-04-01  12.50pm  NaN  705157296     NaN  NaN      Inquiry on directions   \n",
       "2        NaT   4.42pm  NaN  722823562     NaN  NaN     Inquiry on oil removal   \n",
       "3        NaT   7.00pm  NaN  115270492     NaN  NaN  Client wanted to pick key   \n",
       "4        NaT      NaN  NaN        NaN     NaN  NaN                        NaN   \n",
       "\n",
       "  LOCATION/OUTLET RESPONSE GIVEN/CONCLUSION  \n",
       "0             NaN                       NaN  \n",
       "1      Two Rivers                   Advised  \n",
       "2     Garden City                   Advised  \n",
       "3   Mountain View                   Advised  \n",
       "4             NaN                       NaN  "
      ]
     },
     "execution_count": 3,
     "metadata": {},
     "output_type": "execute_result"
    }
   ],
   "source": [
    "# Step 1: # 📥 Load the customer care call dataset\n",
    "calldata = pd.read_excel(\"CustomerTollFreeData.xlsx\")\n",
    "calldata.head()\n"
   ]
  },
  {
   "cell_type": "code",
   "execution_count": 4,
   "id": "600b9e2c",
   "metadata": {},
   "outputs": [
    {
     "name": "stdout",
     "output_type": "stream",
     "text": [
      "Dataset shape: (2122, 9)\n",
      "\n",
      "Dataset information:\n",
      "<class 'pandas.core.frame.DataFrame'>\n",
      "RangeIndex: 2122 entries, 0 to 2121\n",
      "Data columns (total 9 columns):\n",
      " #   Column                     Non-Null Count  Dtype         \n",
      "---  ------                     --------------  -----         \n",
      " 0   DATE                       569 non-null    datetime64[ns]\n",
      " 1   TIME                       1527 non-null   object        \n",
      " 2   NAME                       64 non-null     object        \n",
      " 3   PHONE                      1521 non-null   object        \n",
      " 4   CAR REG                    125 non-null    object        \n",
      " 5   TYPE                       93 non-null     object        \n",
      " 6   REASON FOR CALL            1528 non-null   object        \n",
      " 7   LOCATION/OUTLET            1516 non-null   object        \n",
      " 8   RESPONSE GIVEN/CONCLUSION  1523 non-null   object        \n",
      "dtypes: datetime64[ns](1), object(8)\n",
      "memory usage: 149.3+ KB\n"
     ]
    }
   ],
   "source": [
    "# 📐 Dataset shape and structure\n",
    "\n",
    "# Check the number of rows and columns\n",
    "print(\"Dataset shape:\", calldata.shape)\n",
    "\n",
    "# Display data types and non-null values\n",
    "print(\"\\nDataset information:\")\n",
    "calldata.info()\n"
   ]
  },
  {
   "cell_type": "markdown",
   "id": "0a1555e9",
   "metadata": {},
   "source": [
    "##### Clean all column names "
   ]
  },
  {
   "cell_type": "code",
   "execution_count": 5,
   "id": "9d6e4d54",
   "metadata": {},
   "outputs": [],
   "source": [
    "calldata.columns = calldata.columns.str.strip().str.upper()\n"
   ]
  },
  {
   "cell_type": "markdown",
   "id": "1d688428",
   "metadata": {},
   "source": [
    "### View Missing Values and Data Types"
   ]
  },
  {
   "cell_type": "markdown",
   "id": "5d9bfe13",
   "metadata": {},
   "source": [
    "### Fill Down Missing Dates Using Forward Fill"
   ]
  },
  {
   "cell_type": "code",
   "execution_count": 6,
   "id": "ec355557",
   "metadata": {},
   "outputs": [
    {
     "name": "stderr",
     "output_type": "stream",
     "text": [
      "C:\\Users\\hp\\AppData\\Local\\Temp\\ipykernel_18168\\1764606984.py:2: FutureWarning: Series.fillna with 'method' is deprecated and will raise in a future version. Use obj.ffill() or obj.bfill() instead.\n",
      "  calldata['DATE'] = calldata['DATE'].fillna(method='ffill')\n"
     ]
    },
    {
     "data": {
      "application/vnd.microsoft.datawrangler.viewer.v0+json": {
       "columns": [
        {
         "name": "index",
         "rawType": "int64",
         "type": "integer"
        },
        {
         "name": "DATE",
         "rawType": "datetime64[ns]",
         "type": "datetime"
        },
        {
         "name": "TIME",
         "rawType": "object",
         "type": "unknown"
        },
        {
         "name": "NAME",
         "rawType": "object",
         "type": "unknown"
        },
        {
         "name": "PHONE",
         "rawType": "object",
         "type": "unknown"
        },
        {
         "name": "CAR REG",
         "rawType": "object",
         "type": "unknown"
        },
        {
         "name": "TYPE",
         "rawType": "object",
         "type": "unknown"
        },
        {
         "name": "REASON FOR CALL",
         "rawType": "object",
         "type": "unknown"
        },
        {
         "name": "LOCATION/OUTLET",
         "rawType": "object",
         "type": "unknown"
        },
        {
         "name": "RESPONSE GIVEN/CONCLUSION",
         "rawType": "object",
         "type": "unknown"
        }
       ],
       "ref": "be3acb2a-dfa1-4af3-b1da-fef868932e46",
       "rows": [
        [
         "0",
         null,
         null,
         null,
         null,
         null,
         null,
         null,
         null,
         null
        ],
        [
         "1",
         "2022-04-01 00:00:00",
         "12.50pm",
         null,
         "705157296",
         null,
         null,
         "Inquiry on directions",
         "Two Rivers",
         "Advised"
        ],
        [
         "2",
         "2022-04-01 00:00:00",
         "4.42pm",
         null,
         "722823562",
         null,
         null,
         "Inquiry on oil removal",
         "Garden City",
         "Advised"
        ],
        [
         "3",
         "2022-04-01 00:00:00",
         "7.00pm",
         null,
         "115270492",
         null,
         null,
         "Client wanted to pick key",
         "Mountain View",
         "Advised"
        ],
        [
         "4",
         "2022-04-01 00:00:00",
         null,
         null,
         null,
         null,
         null,
         null,
         null,
         null
        ],
        [
         "5",
         "2022-04-02 00:00:00",
         "10.40am",
         null,
         "739543954",
         null,
         null,
         "Inquiry on packages",
         "Two Rivers",
         "Advised"
        ],
        [
         "6",
         "2022-04-02 00:00:00",
         null,
         null,
         null,
         null,
         null,
         null,
         null,
         null
        ],
        [
         "7",
         "2022-04-03 00:00:00",
         "10.22am",
         null,
         "711484906",
         null,
         null,
         "Inquiry on packages",
         "Garden City",
         "Advised"
        ],
        [
         "8",
         "2022-04-03 00:00:00",
         "1.57am",
         null,
         "715365463",
         null,
         null,
         "Inquiry on Upholstery deluxe",
         "Garden City",
         "Advised"
        ],
        [
         "9",
         "2022-04-03 00:00:00",
         "12.46pm",
         null,
         "721239150",
         null,
         null,
         "Inquired if we sell batteries",
         "All",
         "Advised"
        ],
        [
         "10",
         "2022-04-03 00:00:00",
         null,
         null,
         null,
         null,
         null,
         null,
         null,
         null
        ],
        [
         "11",
         "2022-04-04 00:00:00",
         "7.59am",
         null,
         "720335274",
         null,
         null,
         "Inquired of petrol availability",
         "Shell Homeland",
         "Advised"
        ],
        [
         "12",
         "2022-04-04 00:00:00",
         "12.30pm",
         null,
         "725318030",
         null,
         null,
         "Zuku WiFi installation service",
         "Ngong Road",
         "Advised"
        ],
        [
         "13",
         "2022-04-04 00:00:00",
         "1.24pm",
         null,
         "778019380",
         null,
         null,
         "Inquiry on Upholstery",
         "TRM",
         "Advised"
        ],
        [
         "14",
         "2022-04-04 00:00:00",
         "1.38pm",
         null,
         "704475073",
         null,
         null,
         "Inquired if we have a branch at Upperhill",
         "Upperhill",
         "Advised"
        ],
        [
         "15",
         "2022-04-04 00:00:00",
         null,
         null,
         null,
         null,
         null,
         null,
         null,
         null
        ],
        [
         "16",
         "2022-04-05 00:00:00",
         "5.29pm",
         null,
         "722832881",
         null,
         null,
         "Inquiry on closing time",
         "Southfield Mall",
         "Advised"
        ],
        [
         "17",
         "2022-04-05 00:00:00",
         null,
         null,
         null,
         null,
         null,
         null,
         null,
         null
        ],
        [
         "18",
         "2022-04-06 00:00:00",
         "9.29am",
         null,
         "724580439",
         null,
         "Vitz",
         "Client missing a piece of console plastic",
         "Garden City",
         "Following up with team"
        ],
        [
         "19",
         "2022-04-06 00:00:00",
         "12.48pm",
         null,
         "706575067",
         null,
         null,
         "Bank transaction confirmation",
         "Mountain View",
         "Forwarded  to Nicholas"
        ],
        [
         "20",
         "2022-04-06 00:00:00",
         "6.21pm",
         null,
         "725082530",
         null,
         null,
         "Inquiry on Engine Wash",
         "Garden City",
         "Advised"
        ],
        [
         "21",
         "2022-04-06 00:00:00",
         null,
         null,
         null,
         null,
         null,
         null,
         null,
         null
        ],
        [
         "22",
         "2022-04-07 00:00:00",
         "7.59am",
         null,
         "725082530",
         null,
         null,
         "Inquiry on opening time",
         "TRM",
         "Advised"
        ],
        [
         "23",
         "2022-04-07 00:00:00",
         "12.00 noon",
         "Vincent",
         "700109911",
         null,
         null,
         "Looking for a job",
         "Ngong Rd",
         "For Human Resource"
        ],
        [
         "24",
         "2022-04-07 00:00:00",
         "2.17pm",
         null,
         "733738131",
         "KDC 202F",
         "Harrier",
         "Booking for Engine wash",
         "Shell Lavington",
         "Booked"
        ],
        [
         "25",
         "2022-04-07 00:00:00",
         null,
         null,
         null,
         null,
         null,
         null,
         null,
         null
        ],
        [
         "26",
         "2022-04-08 00:00:00",
         "8.32am",
         null,
         "722877867",
         null,
         null,
         "Inquiry of Engine steam wash",
         "All",
         "Advised"
        ],
        [
         "27",
         "2022-04-08 00:00:00",
         "9.28am",
         null,
         "721343800",
         null,
         "Prado Tx",
         "Client wanted buffing at 3,000 ",
         "TRM",
         "Advised"
        ],
        [
         "28",
         "2022-04-08 00:00:00",
         "7.01pm",
         null,
         "722598221",
         null,
         null,
         "Inquiry on Upholstery and Engine wash",
         "Garden City",
         "Advised"
        ],
        [
         "29",
         "2022-04-08 00:00:00",
         "7.53pm",
         "Dorea",
         "702669442",
         null,
         "Juke",
         "Complained of service taking too long",
         "TRM",
         "Advised"
        ],
        [
         "30",
         "2022-04-08 00:00:00",
         null,
         null,
         null,
         null,
         null,
         null,
         null,
         null
        ],
        [
         "31",
         "2022-04-09 00:00:00",
         "8.53am",
         null,
         "736621531",
         null,
         null,
         "Looking for a job",
         "All",
         "Advised"
        ],
        [
         "32",
         "2022-04-09 00:00:00",
         "3.51pm",
         null,
         "727299697",
         null,
         null,
         "Inquiry on buffing and direction",
         "The Hub",
         "Advised"
        ],
        [
         "33",
         "2022-04-09 00:00:00",
         "4.30pm",
         null,
         "720659913",
         null,
         null,
         "Client left a box with a pillow",
         "Two Rivers",
         "To pick up"
        ],
        [
         "34",
         "2022-04-09 00:00:00",
         "7.26pm",
         null,
         "725654235",
         null,
         null,
         "Client concerned of rigid door lock",
         "Shell Lavington",
         "Advised"
        ],
        [
         "35",
         "2022-04-09 00:00:00",
         null,
         null,
         null,
         null,
         null,
         null,
         null,
         null
        ],
        [
         "36",
         "2022-04-10 00:00:00",
         "2.20pm",
         null,
         "723404553",
         null,
         null,
         "Inquiry on direction",
         "The Hub",
         "Advised"
        ],
        [
         "37",
         "2022-04-10 00:00:00",
         "4.16pm",
         null,
         "722898236",
         null,
         null,
         "Client concerned of radio not powering",
         "The Hub",
         "Advised"
        ],
        [
         "38",
         "2022-04-10 00:00:00",
         null,
         null,
         null,
         null,
         null,
         null,
         null,
         null
        ],
        [
         "39",
         "2022-04-11 00:00:00",
         "6.16pm",
         null,
         "705367255",
         null,
         null,
         "Looking for a job",
         "Galleria",
         "for Human Resource"
        ],
        [
         "40",
         "2022-04-11 00:00:00",
         "6.36pm",
         null,
         "726390993",
         null,
         null,
         "Inquiry on Engine steam wash",
         "All",
         "Advised"
        ],
        [
         "41",
         "2022-04-11 00:00:00",
         null,
         null,
         null,
         null,
         null,
         null,
         null,
         null
        ],
        [
         "42",
         "2022-04-12 00:00:00",
         "10.15am",
         null,
         "773569936",
         null,
         null,
         "Inquiry on Engine wash",
         "Garden City",
         "Advised"
        ],
        [
         "43",
         "2022-04-12 00:00:00",
         "10.17am",
         null,
         "722156191",
         null,
         null,
         "Asked for Manager's contact (Business)",
         "Shell Lavington",
         "Advised"
        ],
        [
         "44",
         "2022-04-12 00:00:00",
         "4.21pm",
         null,
         "723778736",
         "KCA 558H",
         "Note",
         "Left Fabric mats in October",
         "Garden City",
         "To sent date from Mpesa"
        ],
        [
         "45",
         "2022-04-12 00:00:00",
         null,
         null,
         null,
         null,
         null,
         null,
         null,
         null
        ],
        [
         "46",
         "2022-04-15 00:00:00",
         "7.31am",
         null,
         "720901872",
         null,
         null,
         "Team to go for car keys at Kinyozi",
         "TRM",
         "Done"
        ],
        [
         "47",
         "2022-04-15 00:00:00",
         "1.14pm",
         null,
         "720761544",
         null,
         null,
         "Inquiry on packages",
         "Mountain View",
         "Advised"
        ],
        [
         "48",
         "2022-04-15 00:00:00",
         "2.29pm",
         null,
         "768801515",
         null,
         null,
         "Inquiry on Upholstery deluxe",
         "Galleria",
         "Advised"
        ],
        [
         "49",
         "2022-04-15 00:00:00",
         null,
         null,
         null,
         null,
         null,
         null,
         null,
         null
        ]
       ],
       "shape": {
        "columns": 9,
        "rows": 2122
       }
      },
      "text/html": [
       "<div>\n",
       "<style scoped>\n",
       "    .dataframe tbody tr th:only-of-type {\n",
       "        vertical-align: middle;\n",
       "    }\n",
       "\n",
       "    .dataframe tbody tr th {\n",
       "        vertical-align: top;\n",
       "    }\n",
       "\n",
       "    .dataframe thead th {\n",
       "        text-align: right;\n",
       "    }\n",
       "</style>\n",
       "<table border=\"1\" class=\"dataframe\">\n",
       "  <thead>\n",
       "    <tr style=\"text-align: right;\">\n",
       "      <th></th>\n",
       "      <th>DATE</th>\n",
       "      <th>TIME</th>\n",
       "      <th>NAME</th>\n",
       "      <th>PHONE</th>\n",
       "      <th>CAR REG</th>\n",
       "      <th>TYPE</th>\n",
       "      <th>REASON FOR CALL</th>\n",
       "      <th>LOCATION/OUTLET</th>\n",
       "      <th>RESPONSE GIVEN/CONCLUSION</th>\n",
       "    </tr>\n",
       "  </thead>\n",
       "  <tbody>\n",
       "    <tr>\n",
       "      <th>0</th>\n",
       "      <td>NaT</td>\n",
       "      <td>NaN</td>\n",
       "      <td>NaN</td>\n",
       "      <td>NaN</td>\n",
       "      <td>NaN</td>\n",
       "      <td>NaN</td>\n",
       "      <td>NaN</td>\n",
       "      <td>NaN</td>\n",
       "      <td>NaN</td>\n",
       "    </tr>\n",
       "    <tr>\n",
       "      <th>1</th>\n",
       "      <td>2022-04-01</td>\n",
       "      <td>12.50pm</td>\n",
       "      <td>NaN</td>\n",
       "      <td>705157296</td>\n",
       "      <td>NaN</td>\n",
       "      <td>NaN</td>\n",
       "      <td>Inquiry on directions</td>\n",
       "      <td>Two Rivers</td>\n",
       "      <td>Advised</td>\n",
       "    </tr>\n",
       "    <tr>\n",
       "      <th>2</th>\n",
       "      <td>2022-04-01</td>\n",
       "      <td>4.42pm</td>\n",
       "      <td>NaN</td>\n",
       "      <td>722823562</td>\n",
       "      <td>NaN</td>\n",
       "      <td>NaN</td>\n",
       "      <td>Inquiry on oil removal</td>\n",
       "      <td>Garden City</td>\n",
       "      <td>Advised</td>\n",
       "    </tr>\n",
       "    <tr>\n",
       "      <th>3</th>\n",
       "      <td>2022-04-01</td>\n",
       "      <td>7.00pm</td>\n",
       "      <td>NaN</td>\n",
       "      <td>115270492</td>\n",
       "      <td>NaN</td>\n",
       "      <td>NaN</td>\n",
       "      <td>Client wanted to pick key</td>\n",
       "      <td>Mountain View</td>\n",
       "      <td>Advised</td>\n",
       "    </tr>\n",
       "    <tr>\n",
       "      <th>4</th>\n",
       "      <td>2022-04-01</td>\n",
       "      <td>NaN</td>\n",
       "      <td>NaN</td>\n",
       "      <td>NaN</td>\n",
       "      <td>NaN</td>\n",
       "      <td>NaN</td>\n",
       "      <td>NaN</td>\n",
       "      <td>NaN</td>\n",
       "      <td>NaN</td>\n",
       "    </tr>\n",
       "    <tr>\n",
       "      <th>...</th>\n",
       "      <td>...</td>\n",
       "      <td>...</td>\n",
       "      <td>...</td>\n",
       "      <td>...</td>\n",
       "      <td>...</td>\n",
       "      <td>...</td>\n",
       "      <td>...</td>\n",
       "      <td>...</td>\n",
       "      <td>...</td>\n",
       "    </tr>\n",
       "    <tr>\n",
       "      <th>2117</th>\n",
       "      <td>2022-09-29</td>\n",
       "      <td>11.07am</td>\n",
       "      <td>NaN</td>\n",
       "      <td>708408310</td>\n",
       "      <td>NaN</td>\n",
       "      <td>NaN</td>\n",
       "      <td>Inquiry on leather restoration</td>\n",
       "      <td>Galleria</td>\n",
       "      <td>Advised</td>\n",
       "    </tr>\n",
       "    <tr>\n",
       "      <th>2118</th>\n",
       "      <td>2022-09-29</td>\n",
       "      <td>2.35pm</td>\n",
       "      <td>NaN</td>\n",
       "      <td>712327061</td>\n",
       "      <td>NaN</td>\n",
       "      <td>NaN</td>\n",
       "      <td>Inquiry if carwash is open</td>\n",
       "      <td>Southfield</td>\n",
       "      <td>Advised</td>\n",
       "    </tr>\n",
       "    <tr>\n",
       "      <th>2119</th>\n",
       "      <td>2022-09-29</td>\n",
       "      <td>NaN</td>\n",
       "      <td>NaN</td>\n",
       "      <td>NaN</td>\n",
       "      <td>NaN</td>\n",
       "      <td>NaN</td>\n",
       "      <td>NaN</td>\n",
       "      <td>NaN</td>\n",
       "      <td>NaN</td>\n",
       "    </tr>\n",
       "    <tr>\n",
       "      <th>2120</th>\n",
       "      <td>2022-09-30</td>\n",
       "      <td>11.19am</td>\n",
       "      <td>NaN</td>\n",
       "      <td>723455519</td>\n",
       "      <td>NaN</td>\n",
       "      <td>NaN</td>\n",
       "      <td>Inquiry if we sell machines</td>\n",
       "      <td>HQ</td>\n",
       "      <td>Advised-sent Brian's no.</td>\n",
       "    </tr>\n",
       "    <tr>\n",
       "      <th>2121</th>\n",
       "      <td>2022-09-30</td>\n",
       "      <td>10.28am</td>\n",
       "      <td>NaN</td>\n",
       "      <td>726875222</td>\n",
       "      <td>NaN</td>\n",
       "      <td>NaN</td>\n",
       "      <td>Inquiry on upholstery deluxe</td>\n",
       "      <td>The Hub</td>\n",
       "      <td>Advised</td>\n",
       "    </tr>\n",
       "  </tbody>\n",
       "</table>\n",
       "<p>2122 rows × 9 columns</p>\n",
       "</div>"
      ],
      "text/plain": [
       "           DATE     TIME NAME      PHONE CAR REG TYPE  \\\n",
       "0           NaT      NaN  NaN        NaN     NaN  NaN   \n",
       "1    2022-04-01  12.50pm  NaN  705157296     NaN  NaN   \n",
       "2    2022-04-01   4.42pm  NaN  722823562     NaN  NaN   \n",
       "3    2022-04-01   7.00pm  NaN  115270492     NaN  NaN   \n",
       "4    2022-04-01      NaN  NaN        NaN     NaN  NaN   \n",
       "...         ...      ...  ...        ...     ...  ...   \n",
       "2117 2022-09-29  11.07am  NaN  708408310     NaN  NaN   \n",
       "2118 2022-09-29   2.35pm  NaN  712327061     NaN  NaN   \n",
       "2119 2022-09-29      NaN  NaN        NaN     NaN  NaN   \n",
       "2120 2022-09-30  11.19am  NaN  723455519     NaN  NaN   \n",
       "2121 2022-09-30  10.28am  NaN  726875222     NaN  NaN   \n",
       "\n",
       "                     REASON FOR CALL LOCATION/OUTLET RESPONSE GIVEN/CONCLUSION  \n",
       "0                                NaN             NaN                       NaN  \n",
       "1              Inquiry on directions      Two Rivers                   Advised  \n",
       "2             Inquiry on oil removal     Garden City                   Advised  \n",
       "3          Client wanted to pick key   Mountain View                   Advised  \n",
       "4                                NaN             NaN                       NaN  \n",
       "...                              ...             ...                       ...  \n",
       "2117  Inquiry on leather restoration        Galleria                   Advised  \n",
       "2118      Inquiry if carwash is open      Southfield                   Advised  \n",
       "2119                             NaN             NaN                       NaN  \n",
       "2120     Inquiry if we sell machines              HQ  Advised-sent Brian's no.  \n",
       "2121    Inquiry on upholstery deluxe         The Hub                   Advised  \n",
       "\n",
       "[2122 rows x 9 columns]"
      ]
     },
     "execution_count": 6,
     "metadata": {},
     "output_type": "execute_result"
    }
   ],
   "source": [
    "# Fill missing DATE values with the previous non-null value (forward fill)\n",
    "calldata['DATE'] = calldata['DATE'].fillna(method='ffill')\n",
    "calldata\n"
   ]
  },
  {
   "cell_type": "markdown",
   "id": "773143fb",
   "metadata": {},
   "source": [
    "### 🧹 Data Cleaning: Handling Missing Values\n",
    "\n",
    "To prepare the customer care dataset for analysis, we performed the following steps:\n",
    "\n",
    "- **Dropped columns with excessive missing data (>90%)**: Removed `NAME`, `TYPE`, and `CAR REG` as they contain little useful information.\n",
    "- **Removed rows with missing `TIME` values**: These are  invalid records.\n",
    "- **Forward-filled missing `DATE` values**: Propagated previous valid dates to fill gaps, then dropped any remaining row with a missing date, the first row.\n",
    "- **Filled missing values in other key columns** using appropriate placeholder values:\n",
    "  - `LOCATION/OUTLET` → `\"Unknown Location\"`\n",
    "  - `PHONE ` → `\"Missing Phone\"`\n",
    "  - `RESPONSE GIVEN/CONCLUSION` → `\"Not Recorded\"`\n",
    "  - `REASON FOR CALL` → `\"Unknown Reason\"`\n",
    "- **Generated a summary table** to confirm that all critical columns are now complete and ready for further analysis.\n"
   ]
  },
  {
   "cell_type": "code",
   "execution_count": 7,
   "id": "5666e777",
   "metadata": {},
   "outputs": [
    {
     "name": "stdout",
     "output_type": "stream",
     "text": [
      "✅ Final Missing Value Summary:\n"
     ]
    },
    {
     "name": "stderr",
     "output_type": "stream",
     "text": [
      "C:\\Users\\hp\\AppData\\Local\\Temp\\ipykernel_18168\\1770274037.py:9: FutureWarning: Series.fillna with 'method' is deprecated and will raise in a future version. Use obj.ffill() or obj.bfill() instead.\n",
      "  calldata[\"DATE\"] = calldata[\"DATE\"].fillna(method=\"ffill\")\n",
      "C:\\Users\\hp\\AppData\\Local\\Temp\\ipykernel_18168\\1770274037.py:9: SettingWithCopyWarning: \n",
      "A value is trying to be set on a copy of a slice from a DataFrame.\n",
      "Try using .loc[row_indexer,col_indexer] = value instead\n",
      "\n",
      "See the caveats in the documentation: https://pandas.pydata.org/pandas-docs/stable/user_guide/indexing.html#returning-a-view-versus-a-copy\n",
      "  calldata[\"DATE\"] = calldata[\"DATE\"].fillna(method=\"ffill\")\n"
     ]
    },
    {
     "data": {
      "application/vnd.microsoft.datawrangler.viewer.v0+json": {
       "columns": [
        {
         "name": "index",
         "rawType": "object",
         "type": "string"
        },
        {
         "name": "Missing Values",
         "rawType": "int64",
         "type": "integer"
        },
        {
         "name": "Percent_Missing",
         "rawType": "float64",
         "type": "float"
        },
        {
         "name": "Data_Type",
         "rawType": "object",
         "type": "unknown"
        }
       ],
       "ref": "4b885ec7-6b3a-4577-a217-baeb9506d59f",
       "rows": [
        [
         "PHONE",
         "12",
         "0.7858546168958742",
         "object"
        ],
        [
         "DATE",
         "0",
         "0.0",
         "datetime64[ns]"
        ],
        [
         "TIME",
         "0",
         "0.0",
         "object"
        ],
        [
         "REASON FOR CALL",
         "0",
         "0.0",
         "object"
        ],
        [
         "LOCATION/OUTLET",
         "0",
         "0.0",
         "object"
        ],
        [
         "RESPONSE GIVEN/CONCLUSION",
         "0",
         "0.0",
         "object"
        ]
       ],
       "shape": {
        "columns": 3,
        "rows": 6
       }
      },
      "text/html": [
       "<div>\n",
       "<style scoped>\n",
       "    .dataframe tbody tr th:only-of-type {\n",
       "        vertical-align: middle;\n",
       "    }\n",
       "\n",
       "    .dataframe tbody tr th {\n",
       "        vertical-align: top;\n",
       "    }\n",
       "\n",
       "    .dataframe thead th {\n",
       "        text-align: right;\n",
       "    }\n",
       "</style>\n",
       "<table border=\"1\" class=\"dataframe\">\n",
       "  <thead>\n",
       "    <tr style=\"text-align: right;\">\n",
       "      <th></th>\n",
       "      <th>Missing Values</th>\n",
       "      <th>Percent_Missing</th>\n",
       "      <th>Data_Type</th>\n",
       "    </tr>\n",
       "  </thead>\n",
       "  <tbody>\n",
       "    <tr>\n",
       "      <th>PHONE</th>\n",
       "      <td>12</td>\n",
       "      <td>0.785855</td>\n",
       "      <td>object</td>\n",
       "    </tr>\n",
       "    <tr>\n",
       "      <th>DATE</th>\n",
       "      <td>0</td>\n",
       "      <td>0.000000</td>\n",
       "      <td>datetime64[ns]</td>\n",
       "    </tr>\n",
       "    <tr>\n",
       "      <th>TIME</th>\n",
       "      <td>0</td>\n",
       "      <td>0.000000</td>\n",
       "      <td>object</td>\n",
       "    </tr>\n",
       "    <tr>\n",
       "      <th>REASON FOR CALL</th>\n",
       "      <td>0</td>\n",
       "      <td>0.000000</td>\n",
       "      <td>object</td>\n",
       "    </tr>\n",
       "    <tr>\n",
       "      <th>LOCATION/OUTLET</th>\n",
       "      <td>0</td>\n",
       "      <td>0.000000</td>\n",
       "      <td>object</td>\n",
       "    </tr>\n",
       "    <tr>\n",
       "      <th>RESPONSE GIVEN/CONCLUSION</th>\n",
       "      <td>0</td>\n",
       "      <td>0.000000</td>\n",
       "      <td>object</td>\n",
       "    </tr>\n",
       "  </tbody>\n",
       "</table>\n",
       "</div>"
      ],
      "text/plain": [
       "                           Missing Values  Percent_Missing       Data_Type\n",
       "PHONE                                  12         0.785855          object\n",
       "DATE                                    0         0.000000  datetime64[ns]\n",
       "TIME                                    0         0.000000          object\n",
       "REASON FOR CALL                         0         0.000000          object\n",
       "LOCATION/OUTLET                         0         0.000000          object\n",
       "RESPONSE GIVEN/CONCLUSION               0         0.000000          object"
      ]
     },
     "metadata": {},
     "output_type": "display_data"
    }
   ],
   "source": [
    "# Drop columns with excessive missing values (>90%)\n",
    "cols_to_drop = [\"NAME\", \"TYPE\", \"CAR REG\"]\n",
    "calldata.drop(columns=cols_to_drop, inplace=True)\n",
    "\n",
    "# Drop rows where TIME is missing (means record does not exist)\n",
    "calldata = calldata[calldata[\"TIME\"].notna()]\n",
    "\n",
    "# Forward-fill missing DATEs (fill down from above)\n",
    "calldata[\"DATE\"] = calldata[\"DATE\"].fillna(method=\"ffill\")\n",
    "\n",
    "# Drop any remaining row with missing DATE (likely first row)\n",
    "calldata = calldata[calldata[\"DATE\"].notna()]\n",
    "\n",
    "# Fill missing values in other key columns with placeholders\n",
    "calldata = calldata.fillna({\n",
    "    \"LOCATION/OUTLET\": \"Unknown Location\",\n",
    "    \"PHONE \": \"Missing Phone\",\n",
    "    \"RESPONSE GIVEN/CONCLUSION\": \"Not Recorded\",\n",
    "    \"REASON FOR CALL\": \"Unknown Reason\"\n",
    "})\n",
    "\n",
    "# Optional: Confirm no missing values remain\n",
    "missing_summary = pd.DataFrame({\n",
    "    \"Missing Values\": calldata.isnull().sum(),\n",
    "    \"Percent_Missing\": (calldata.isnull().sum() / len(calldata)) * 100,\n",
    "    \"Data_Type\": calldata.dtypes\n",
    "}).sort_values(by=\"Percent_Missing\", ascending=False)\n",
    "\n",
    "print(\"✅ Final Missing Value Summary:\")\n",
    "display(missing_summary)\n"
   ]
  },
  {
   "cell_type": "markdown",
   "id": "bc00c599",
   "metadata": {},
   "source": [
    "### 🧹 Standardizing Values in `LOCATION/OUTLET`\n",
    "\n",
    "To ensure consistency in our analysis, we replaced the value `\"All\"` with `\"Any\"` in the `LOCATION/OUTLET` column. This standardization helps eliminate ambiguity in location labeling and improves the clarity of grouped insights later in the project.\n"
   ]
  },
  {
   "cell_type": "code",
   "execution_count": 8,
   "id": "726a386e",
   "metadata": {},
   "outputs": [],
   "source": [
    "# Replace all variations of 'All' (case-insensitive, trim spaces) with 'Any'\n",
    "calldata[\"LOCATION/OUTLET\"] = calldata[\"LOCATION/OUTLET\"].str.strip().replace(r\"(?i)^all$\", \"Any\", regex=True)"
   ]
  },
  {
   "cell_type": "code",
   "execution_count": 9,
   "id": "952313a2",
   "metadata": {},
   "outputs": [],
   "source": [
    "# Save cleaned data to CSV\n",
    "calldata.to_csv(\"cleaned_customer_data.csv\", index=False)\n"
   ]
  },
  {
   "cell_type": "markdown",
   "id": "2889e470",
   "metadata": {},
   "source": [
    " ### Review Data Types"
   ]
  },
  {
   "cell_type": "code",
   "execution_count": 10,
   "id": "0ae0eb63",
   "metadata": {},
   "outputs": [
    {
     "data": {
      "application/vnd.microsoft.datawrangler.viewer.v0+json": {
       "columns": [
        {
         "name": "index",
         "rawType": "object",
         "type": "string"
        },
        {
         "name": "0",
         "rawType": "object",
         "type": "unknown"
        }
       ],
       "ref": "965b3375-1c5b-405a-b7cb-a3ae9d4af3ec",
       "rows": [
        [
         "DATE",
         "datetime64[ns]"
        ],
        [
         "TIME",
         "object"
        ],
        [
         "PHONE",
         "object"
        ],
        [
         "REASON FOR CALL",
         "object"
        ],
        [
         "LOCATION/OUTLET",
         "object"
        ],
        [
         "RESPONSE GIVEN/CONCLUSION",
         "object"
        ]
       ],
       "shape": {
        "columns": 1,
        "rows": 6
       }
      },
      "text/plain": [
       "DATE                         datetime64[ns]\n",
       "TIME                                 object\n",
       "PHONE                                object\n",
       "REASON FOR CALL                      object\n",
       "LOCATION/OUTLET                      object\n",
       "RESPONSE GIVEN/CONCLUSION            object\n",
       "dtype: object"
      ]
     },
     "execution_count": 10,
     "metadata": {},
     "output_type": "execute_result"
    }
   ],
   "source": [
    "# Check data types\n",
    "calldata.dtypes\n"
   ]
  },
  {
   "cell_type": "markdown",
   "id": "49a68370",
   "metadata": {},
   "source": [
    "### Feature Engineering from DATE and TIME"
   ]
  },
  {
   "cell_type": "markdown",
   "id": "c6092187",
   "metadata": {},
   "source": [
    "###  Standardizing the DATE Column\n",
    "To ensure consistent analysis and plotting, we convert the `DATE` column to `datetime` format and extract only the date portion, removing any embedded time component.\n",
    "\n",
    "- This ensures all records are aligned to proper calendar dates.\n",
    "- It allows for easy grouping, filtering, and time-series analysis.\n",
    "\n",
    "```python\n",
    "calldata[\"DATE\"] = pd.to_datetime(calldata[\"DATE\"], errors=\"coerce\").dt.date\n"
   ]
  },
  {
   "cell_type": "code",
   "execution_count": 11,
   "id": "49af943f",
   "metadata": {},
   "outputs": [],
   "source": [
    "import pandas as pd\n",
    "\n",
    "# Load the cleaned customer care data\n",
    "calldata = pd.read_csv(\"cleaned_customer_data.csv\")\n",
    "\n",
    "# =========================\n",
    "# 1. Convert DATE to datetime.date\n",
    "# =========================\n",
    "# Explanation:\n",
    "# Convert the DATE column (currently object type) to datetime format first,\n",
    "# then extract just the date part (removes any potential time portion)\n",
    "calldata[\"DATE\"] = pd.to_datetime(calldata[\"DATE\"], errors=\"coerce\").dt.date\n",
    "\n",
    "# =========================\n",
    "# 2. Clean TIME strings and convert to datetime.time\n",
    "# =========================\n",
    "# Explanation:\n",
    "# - Replace '.' with ':' for proper time formatting (e.g., 12.50pm → 12:50pm)\n",
    "# - Add space before 'am' or 'pm' if missing\n",
    "# - Use pd.to_datetime with format '%I:%M %p' to parse time\n",
    "\n",
    "# Clean TIME column\n",
    "calldata[\"TIME\"] = calldata[\"TIME\"].astype(str)  # Ensure it's string for replacement\n",
    "calldata[\"TIME\"] = calldata[\"TIME\"].str.replace(\".\", \":\", regex=False)  # Replace dot with colon\n",
    "calldata[\"TIME\"] = calldata[\"TIME\"].str.replace(r\"(?i)(am|pm)\", r\" \\1\", regex=True).str.strip()  # Add space before am/pm\n",
    "\n",
    "# Convert to datetime.time format\n",
    "calldata[\"TIME\"] = pd.to_datetime(calldata[\"TIME\"], format=\"%I:%M %p\", errors=\"coerce\").dt.time\n",
    "\n",
    "\n"
   ]
  },
  {
   "cell_type": "markdown",
   "id": "279c9b56",
   "metadata": {},
   "source": [
    "### Impute Missing TIME Values"
   ]
  },
  {
   "cell_type": "code",
   "execution_count": 12,
   "id": "8c5e9f2e",
   "metadata": {},
   "outputs": [
    {
     "name": "stdout",
     "output_type": "stream",
     "text": [
      "Remaining missing TIME entries: 0\n"
     ]
    }
   ],
   "source": [
    "from datetime import timedelta\n",
    "\n",
    "# Sort data by DATE and TIME to maintain chronological order\n",
    "calldata = calldata.sort_values(by=[\"DATE\", \"TIME\"]).reset_index(drop=True)\n",
    "\n",
    "# Loop through the TIME column to fill NaT with +30 mins after the previous valid time\n",
    "for i in range(1, len(calldata)):\n",
    "    if pd.isna(calldata.loc[i, \"TIME\"]):\n",
    "        prev_time = calldata.loc[i - 1, \"TIME\"]\n",
    "        \n",
    "        # Only fill if previous time is not missing\n",
    "        if not pd.isna(prev_time):\n",
    "            # Add 30 minutes to previous time\n",
    "            new_time = (datetime.combine(datetime.today(), prev_time) + timedelta(minutes=30)).time()\n",
    "            calldata.loc[i, \"TIME\"] = new_time\n",
    "\n",
    "# Check if all missing values are filled\n",
    "print(\"Remaining missing TIME entries:\", calldata[\"TIME\"].isna().sum())\n"
   ]
  },
  {
   "cell_type": "markdown",
   "id": "76b80d02",
   "metadata": {},
   "source": [
    "In the dataset, some records are missing time values. Instead of dropping them, we use a smart imputation strategy to maintain temporal consistency:\n",
    "\n",
    "✅ Strategy:\n",
    "Sort by DATE and TIME to ensure chronological order.\n",
    "\n",
    "For each missing TIME value, add 30 minutes to the previous valid time.\n",
    "\n",
    "This preserves a realistic and spaced timeline of customer calls."
   ]
  },
  {
   "cell_type": "markdown",
   "id": "d710e01e",
   "metadata": {},
   "source": [
    "### 🕒 Feature Engineering: Time-Based Insights\n",
    "\n",
    "We derive several **time-based features** from the cleaned `DATE` and `TIME` columns to better understand customer behavior patterns and service trends:\n",
    "\n",
    "- **`hour`**: Extracted from the `TIME` column to analyze peak and off-peak calling hours.\n",
    "- **`day_of_week`**: Derived from the `DATE` column to identify patterns across weekdays and weekends.\n",
    "- **`day`**: Day of the month, useful for identifying date-specific spikes or trends.\n",
    "- **`month`**: Useful to check for seasonality in complaints or service issues.\n",
    "- **`call_period`**: A custom feature categorizing calls into:\n",
    "  - **Morning** (5 AM – 11:59 AM)\n",
    "  - **Afternoon** (12 PM – 4:59 PM)\n",
    "  - **Evening** (5 PM – 8:59 PM)\n",
    "  - **Night** (9 PM – 4:59 AM)\n",
    "\n",
    "These engineered features will allow for rich temporal analysis such as:\n",
    "- When are customers most likely to call?\n",
    "- Are there specific times or days when certain issues spike?\n",
    "- Does call volume drop or rise on weekends or holidays?\n"
   ]
  },
  {
   "cell_type": "code",
   "execution_count": 13,
   "id": "f8ba3869",
   "metadata": {},
   "outputs": [
    {
     "data": {
      "application/vnd.microsoft.datawrangler.viewer.v0+json": {
       "columns": [
        {
         "name": "index",
         "rawType": "int64",
         "type": "integer"
        },
        {
         "name": "DATE",
         "rawType": "object",
         "type": "unknown"
        },
        {
         "name": "TIME",
         "rawType": "object",
         "type": "unknown"
        },
        {
         "name": "PHONE",
         "rawType": "object",
         "type": "unknown"
        },
        {
         "name": "REASON FOR CALL",
         "rawType": "object",
         "type": "string"
        },
        {
         "name": "LOCATION/OUTLET",
         "rawType": "object",
         "type": "string"
        },
        {
         "name": "RESPONSE GIVEN/CONCLUSION",
         "rawType": "object",
         "type": "string"
        },
        {
         "name": "hour",
         "rawType": "int64",
         "type": "integer"
        },
        {
         "name": "day_of_week",
         "rawType": "object",
         "type": "string"
        },
        {
         "name": "day",
         "rawType": "int32",
         "type": "integer"
        },
        {
         "name": "month",
         "rawType": "object",
         "type": "string"
        },
        {
         "name": "call_period",
         "rawType": "object",
         "type": "string"
        }
       ],
       "ref": "3b9d35a8-da78-4987-a032-54f2876a23e9",
       "rows": [
        [
         "0",
         "2021-11-08",
         "17:00:00",
         "724230732",
         "Missing Mats",
         "GARDEN CITY",
         "Mats returned, to be picked",
         "17",
         "Monday",
         "8",
         "November",
         "Evening"
        ],
        [
         "1",
         "2021-11-09",
         "13:00:00",
         "708326449",
         "Wanted to confirm whether they left Sunglasses and Iphone charger",
         "GARDEN CITY",
         "Not available in store",
         "13",
         "Tuesday",
         "9",
         "November",
         "Afternoon"
        ],
        [
         "2",
         "2021-11-09",
         "14:00:00",
         null,
         "Inquiry on availability of job for his son",
         "GARDEN CITY",
         "Gave him the customer care email",
         "14",
         "Tuesday",
         "9",
         "November",
         "Afternoon"
        ],
        [
         "3",
         "2021-11-10",
         "17:09:00",
         "718744485",
         "Inquiry for Closing time in Two Rivers Outlet",
         "TWO RIVERS",
         "Communicated 7pm as advised by supervisor",
         "17",
         "Wednesday",
         "10",
         "November",
         "Evening"
        ],
        [
         "4",
         "2021-11-10",
         "17:50:00",
         "731114532",
         "Complained of lost perfume (Versace Eros)",
         "GARDEN CITY",
         "CCTV shows no evidence of item being picked",
         "17",
         "Wednesday",
         "10",
         "November",
         "Evening"
        ],
        [
         "5",
         "2021-11-10",
         "17:59:00",
         null,
         "Requested prompt receipt/invoice services, possibly on site",
         "GARDEN CITY",
         "for Management",
         "17",
         "Wednesday",
         "10",
         "November",
         "Evening"
        ],
        [
         "6",
         "2021-11-10",
         "23:00:00",
         "727721619",
         "Inquiry on Availability of  vouchers for his team and available rates",
         "GARDEN CITY",
         "Sent him our packages and rates",
         "23",
         "Wednesday",
         "10",
         "November",
         "Night"
        ],
        [
         "7",
         "2021-11-11",
         "07:48:00",
         "722483138",
         "Inquiry on locations",
         "Shell Lavington",
         "Advised him to visit Shell Lavington",
         "7",
         "Thursday",
         "11",
         "November",
         "Morning"
        ],
        [
         "8",
         "2021-11-11",
         "09:25:00",
         "Email",
         "Received job application for the post of carwash attendant",
         "Unknown Location",
         "Forwarded to Philip",
         "9",
         "Thursday",
         "11",
         "November",
         "Morning"
        ],
        [
         "9",
         "2021-11-11",
         "09:53:00",
         "727881380",
         "Inquiry on Rebuffing and interior cleaning",
         "Garden city",
         "Client received service at Garden city",
         "9",
         "Thursday",
         "11",
         "November",
         "Morning"
        ],
        [
         "10",
         "2021-11-11",
         "12:15:00",
         "707082848",
         "Wanted to know if Extreme is interested in Carwash space",
         "Kilimani",
         "for management",
         "12",
         "Thursday",
         "11",
         "November",
         "Afternoon"
        ],
        [
         "11",
         "2021-11-11",
         "19:26:00",
         null,
         "Client drove off without paying 4850 (Cited car was very wet)",
         "Garden city",
         "Forwarded issue to Peter",
         "19",
         "Thursday",
         "11",
         "November",
         "Evening"
        ],
        [
         "12",
         "2021-11-12",
         "12:05:00",
         "705872918",
         "Left a mat ",
         "The Hub",
         "Mat available for pick up",
         "12",
         "Friday",
         "12",
         "November",
         "Afternoon"
        ],
        [
         "13",
         "2021-11-12",
         "13:54:00",
         "721925877",
         "Wanted to know if her car is ready",
         "Two Rivers",
         "Supervisor confirmed it was ready",
         "13",
         "Friday",
         "12",
         "November",
         "Afternoon"
        ],
        [
         "14",
         "2021-11-12",
         "15:59:00",
         "721594499",
         "Inquiry on Automated Carwash",
         "Any",
         "Advised",
         "15",
         "Friday",
         "12",
         "November",
         "Afternoon"
        ],
        [
         "15",
         "2021-11-12",
         "16:30:00",
         "718720849",
         "Required receipt promptly and not contented with buffing service",
         "Galleria",
         "Buffing windows is a different package (supervisor)",
         "16",
         "Friday",
         "12",
         "November",
         "Afternoon"
        ],
        [
         "16",
         "2021-11-12",
         "20:01:00",
         "724286312",
         "Paid for Wiper blades but not available, size 26 (waited 2 weeks)",
         "Garden City",
         "Wiper blades availed and installed",
         "20",
         "Friday",
         "12",
         "November",
         "Evening"
        ],
        [
         "17",
         "2021-11-13",
         "07:19:00",
         "722804052",
         "Inquiry on opening time",
         "Garden City",
         "Advised 8.00AM",
         "7",
         "Saturday",
         "13",
         "November",
         "Morning"
        ],
        [
         "18",
         "2021-11-13",
         "11:53:00",
         "719185284",
         "Requested interior cleaning in a stationary car",
         "The Hub",
         "Forwarded to Supervisor Brodox",
         "11",
         "Saturday",
         "13",
         "November",
         "Morning"
        ],
        [
         "19",
         "2021-11-13",
         "15:20:00",
         "792249810",
         "Interested in buying a car wash around Westlands",
         "Unknown Location",
         "For Management",
         "15",
         "Saturday",
         "13",
         "November",
         "Afternoon"
        ],
        [
         "20",
         "2021-11-13",
         "17:38:00",
         "720112636",
         "Client complained being denied service",
         "Shell Lavington",
         "Forwarded to Supervisor ",
         "17",
         "Saturday",
         "13",
         "November",
         "Evening"
        ],
        [
         "21",
         "2021-11-13",
         "18:10:00",
         "701305781",
         "Inquiry on opening time  and Packages",
         "Garden City",
         "Advised on time and packages",
         "18",
         "Saturday",
         "13",
         "November",
         "Evening"
        ],
        [
         "22",
         "2021-11-14",
         "19:39:00",
         "Mbuvi's",
         "Client compained of his car being dented.",
         "Garden City",
         "To be checked on CCTV (Car came in dented)",
         "19",
         "Sunday",
         "14",
         "November",
         "Evening"
        ],
        [
         "23",
         "2021-11-15",
         "18:27:00",
         "736621531",
         "Looking for a vacancy",
         "Any branch",
         "Forwarded to Human Resource (Phillip)",
         "18",
         "Monday",
         "15",
         "November",
         "Evening"
        ],
        [
         "24",
         "2021-11-16",
         "10:13:00",
         "729014901",
         "Inquiry on detailing (Mombasa rd)",
         "Southfield Mall",
         "Inquiry on detailing",
         "10",
         "Tuesday",
         "16",
         "November",
         "Morning"
        ],
        [
         "25",
         "2021-11-16",
         "16:13:00",
         "799402451",
         "Inquiry on Platinum package, Body and window buffing",
         "Shell Lavington",
         "Advised accordingly.",
         "16",
         "Tuesday",
         "16",
         "November",
         "Afternoon"
        ],
        [
         "26",
         "2021-11-16",
         "18:18:00",
         "716618188",
         "Inquiry on closing time.",
         "Two Rivers",
         "Advised ",
         "18",
         "Tuesday",
         "16",
         "November",
         "Evening"
        ],
        [
         "27",
         "2021-11-17",
         "10:26:00",
         "722322125",
         "Applied for a job as a driver",
         "Any",
         "Forwarded to Phillip",
         "10",
         "Wednesday",
         "17",
         "November",
         "Morning"
        ],
        [
         "28",
         "2021-11-17",
         "11:00:00",
         "727059446",
         "Forgor Car mats",
         "Garden City",
         "Supervisor kept them. (Wanyonyi)",
         "11",
         "Wednesday",
         "17",
         "November",
         "Morning"
        ],
        [
         "29",
         "2021-11-17",
         "11:39:00",
         "781606060",
         "Southfield mall wanted to update details on their website",
         "Southfield mall",
         "Sent Extreme Clean packages and detailing services",
         "11",
         "Wednesday",
         "17",
         "November",
         "Morning"
        ],
        [
         "30",
         "2021-11-17",
         "17:39:00",
         "724176373",
         "Inquiry on Scratch marks on the Windshield",
         "Galleria",
         "Advised to visit the location",
         "17",
         "Wednesday",
         "17",
         "November",
         "Evening"
        ],
        [
         "31",
         "2021-11-18",
         "16:06:00",
         "729680058",
         "Inquiry on opening time",
         "Southfield mall",
         "Advised",
         "16",
         "Thursday",
         "18",
         "November",
         "Afternoon"
        ],
        [
         "32",
         "2021-11-18",
         "20:33:00",
         "726721992",
         "Inquiry on Packages and Engine wash",
         "Mountain view",
         "Advised",
         "20",
         "Thursday",
         "18",
         "November",
         "Evening"
        ],
        [
         "33",
         "2021-11-19",
         "10:34:00",
         "722877867",
         "Inquiry on engine steam wash",
         "Any",
         "Advised",
         "10",
         "Friday",
         "19",
         "November",
         "Morning"
        ],
        [
         "34",
         "2021-11-19",
         "13:29:00",
         "702651625",
         "Inquiry on platinum package and Engine wash ",
         "Mountain View",
         "Advised",
         "13",
         "Friday",
         "19",
         "November",
         "Afternoon"
        ],
        [
         "35",
         "2021-11-19",
         "13:59:00",
         null,
         "Unknown Reason",
         "Unknown Location",
         "Not Recorded",
         "13",
         "Friday",
         "19",
         "November",
         "Afternoon"
        ],
        [
         "36",
         "2021-11-19",
         "14:29:00",
         null,
         "Unknown Reason",
         "Unknown Location",
         "Not Recorded",
         "14",
         "Friday",
         "19",
         "November",
         "Afternoon"
        ],
        [
         "37",
         "2021-11-19",
         "14:59:00",
         null,
         "Unknown Reason",
         "Unknown Location",
         "Not Recorded",
         "14",
         "Friday",
         "19",
         "November",
         "Afternoon"
        ],
        [
         "38",
         "2021-11-20",
         "12:50:00",
         "721999363",
         "Inquiry on the time it will take to get her car worked on",
         "The Hub",
         "Advised",
         "12",
         "Saturday",
         "20",
         "November",
         "Afternoon"
        ],
        [
         "39",
         "2021-11-20",
         "13:10:00",
         "722748874",
         "Inquired if we are open on Sundays",
         "Ngong Rd",
         "Advised",
         "13",
         "Saturday",
         "20",
         "November",
         "Afternoon"
        ],
        [
         "40",
         "2021-11-20",
         "13:29:00",
         "721580197",
         "Inquiry on upholstery",
         "Galleria",
         "Advised",
         "13",
         "Saturday",
         "20",
         "November",
         "Afternoon"
        ],
        [
         "41",
         "2021-11-20",
         "17:35:00",
         "724500151",
         "Not contented with buffing service",
         "Galleria",
         "Supervisor advised rebuffing be done at The Hub",
         "17",
         "Saturday",
         "20",
         "November",
         "Evening"
        ],
        [
         "42",
         "2021-11-20",
         "18:50:00",
         "115065198",
         "Inquiry on Closing time",
         "Shell Lavington",
         "Advised",
         "18",
         "Saturday",
         "20",
         "November",
         "Evening"
        ],
        [
         "43",
         "2021-11-21",
         "16:11:00",
         "724176373",
         "Inquiry on removal of Scratch marks on the Windshield (2nd time)",
         "Galleria",
         "Advised to visit the location",
         "16",
         "Sunday",
         "21",
         "November",
         "Afternoon"
        ],
        [
         "44",
         "2021-11-22",
         "09:25:00",
         "727059446",
         "Missing Driver's black rubber mat",
         "Garden City",
         "Following up with Garden City Team",
         "9",
         "Monday",
         "22",
         "November",
         "Morning"
        ],
        [
         "45",
         "2021-11-22",
         "11:59:00",
         "111370074",
         "Inquiry on availability of vacancy",
         "Upperhill",
         "Forwarded to Phillip",
         "11",
         "Monday",
         "22",
         "November",
         "Morning"
        ],
        [
         "46",
         "2021-11-22",
         "13:24:00",
         "707870670",
         "Inquiry on availability of vacancy",
         "Any",
         "Forwarded to Phillip",
         "13",
         "Monday",
         "22",
         "November",
         "Afternoon"
        ],
        [
         "47",
         "2021-11-23",
         "09:43:00",
         "704498463",
         "Client wanted to speak to John Muli",
         "Office",
         "Sent John Muli the clients number.",
         "9",
         "Tuesday",
         "23",
         "November",
         "Morning"
        ],
        [
         "48",
         "2021-11-23",
         "14:35:00",
         "799782220",
         "Inquiry on packages",
         "Garden City",
         "Advised",
         "14",
         "Tuesday",
         "23",
         "November",
         "Afternoon"
        ],
        [
         "49",
         "2021-11-24",
         "00:14:00",
         "795841157",
         "Looking for a vacancy",
         "Southfield Mall",
         "Forwarded to Phillip",
         "0",
         "Wednesday",
         "24",
         "November",
         "Night"
        ]
       ],
       "shape": {
        "columns": 11,
        "rows": 1527
       }
      },
      "text/html": [
       "<div>\n",
       "<style scoped>\n",
       "    .dataframe tbody tr th:only-of-type {\n",
       "        vertical-align: middle;\n",
       "    }\n",
       "\n",
       "    .dataframe tbody tr th {\n",
       "        vertical-align: top;\n",
       "    }\n",
       "\n",
       "    .dataframe thead th {\n",
       "        text-align: right;\n",
       "    }\n",
       "</style>\n",
       "<table border=\"1\" class=\"dataframe\">\n",
       "  <thead>\n",
       "    <tr style=\"text-align: right;\">\n",
       "      <th></th>\n",
       "      <th>DATE</th>\n",
       "      <th>TIME</th>\n",
       "      <th>PHONE</th>\n",
       "      <th>REASON FOR CALL</th>\n",
       "      <th>LOCATION/OUTLET</th>\n",
       "      <th>RESPONSE GIVEN/CONCLUSION</th>\n",
       "      <th>hour</th>\n",
       "      <th>day_of_week</th>\n",
       "      <th>day</th>\n",
       "      <th>month</th>\n",
       "      <th>call_period</th>\n",
       "    </tr>\n",
       "  </thead>\n",
       "  <tbody>\n",
       "    <tr>\n",
       "      <th>0</th>\n",
       "      <td>2021-11-08</td>\n",
       "      <td>17:00:00</td>\n",
       "      <td>724230732</td>\n",
       "      <td>Missing Mats</td>\n",
       "      <td>GARDEN CITY</td>\n",
       "      <td>Mats returned, to be picked</td>\n",
       "      <td>17</td>\n",
       "      <td>Monday</td>\n",
       "      <td>8</td>\n",
       "      <td>November</td>\n",
       "      <td>Evening</td>\n",
       "    </tr>\n",
       "    <tr>\n",
       "      <th>1</th>\n",
       "      <td>2021-11-09</td>\n",
       "      <td>13:00:00</td>\n",
       "      <td>708326449</td>\n",
       "      <td>Wanted to confirm whether they left Sunglasses...</td>\n",
       "      <td>GARDEN CITY</td>\n",
       "      <td>Not available in store</td>\n",
       "      <td>13</td>\n",
       "      <td>Tuesday</td>\n",
       "      <td>9</td>\n",
       "      <td>November</td>\n",
       "      <td>Afternoon</td>\n",
       "    </tr>\n",
       "    <tr>\n",
       "      <th>2</th>\n",
       "      <td>2021-11-09</td>\n",
       "      <td>14:00:00</td>\n",
       "      <td>NaN</td>\n",
       "      <td>Inquiry on availability of job for his son</td>\n",
       "      <td>GARDEN CITY</td>\n",
       "      <td>Gave him the customer care email</td>\n",
       "      <td>14</td>\n",
       "      <td>Tuesday</td>\n",
       "      <td>9</td>\n",
       "      <td>November</td>\n",
       "      <td>Afternoon</td>\n",
       "    </tr>\n",
       "    <tr>\n",
       "      <th>3</th>\n",
       "      <td>2021-11-10</td>\n",
       "      <td>17:09:00</td>\n",
       "      <td>718744485</td>\n",
       "      <td>Inquiry for Closing time in Two Rivers Outlet</td>\n",
       "      <td>TWO RIVERS</td>\n",
       "      <td>Communicated 7pm as advised by supervisor</td>\n",
       "      <td>17</td>\n",
       "      <td>Wednesday</td>\n",
       "      <td>10</td>\n",
       "      <td>November</td>\n",
       "      <td>Evening</td>\n",
       "    </tr>\n",
       "    <tr>\n",
       "      <th>4</th>\n",
       "      <td>2021-11-10</td>\n",
       "      <td>17:50:00</td>\n",
       "      <td>731114532</td>\n",
       "      <td>Complained of lost perfume (Versace Eros)</td>\n",
       "      <td>GARDEN CITY</td>\n",
       "      <td>CCTV shows no evidence of item being picked</td>\n",
       "      <td>17</td>\n",
       "      <td>Wednesday</td>\n",
       "      <td>10</td>\n",
       "      <td>November</td>\n",
       "      <td>Evening</td>\n",
       "    </tr>\n",
       "    <tr>\n",
       "      <th>...</th>\n",
       "      <td>...</td>\n",
       "      <td>...</td>\n",
       "      <td>...</td>\n",
       "      <td>...</td>\n",
       "      <td>...</td>\n",
       "      <td>...</td>\n",
       "      <td>...</td>\n",
       "      <td>...</td>\n",
       "      <td>...</td>\n",
       "      <td>...</td>\n",
       "      <td>...</td>\n",
       "    </tr>\n",
       "    <tr>\n",
       "      <th>1522</th>\n",
       "      <td>2023-08-12</td>\n",
       "      <td>14:10:00</td>\n",
       "      <td>710596654</td>\n",
       "      <td>Inquiry on packages</td>\n",
       "      <td>Garden City</td>\n",
       "      <td>Advised</td>\n",
       "      <td>14</td>\n",
       "      <td>Saturday</td>\n",
       "      <td>12</td>\n",
       "      <td>August</td>\n",
       "      <td>Afternoon</td>\n",
       "    </tr>\n",
       "    <tr>\n",
       "      <th>1523</th>\n",
       "      <td>2023-08-12</td>\n",
       "      <td>14:40:00</td>\n",
       "      <td>799437046</td>\n",
       "      <td>Inquiry on steam engine wash</td>\n",
       "      <td>Garden City</td>\n",
       "      <td>Advised</td>\n",
       "      <td>14</td>\n",
       "      <td>Saturday</td>\n",
       "      <td>12</td>\n",
       "      <td>August</td>\n",
       "      <td>Afternoon</td>\n",
       "    </tr>\n",
       "    <tr>\n",
       "      <th>1524</th>\n",
       "      <td>2023-08-14</td>\n",
       "      <td>13:58:00</td>\n",
       "      <td>710926966</td>\n",
       "      <td>Client requested laptop from the car</td>\n",
       "      <td>The Hub</td>\n",
       "      <td>Assisted</td>\n",
       "      <td>13</td>\n",
       "      <td>Monday</td>\n",
       "      <td>14</td>\n",
       "      <td>August</td>\n",
       "      <td>Afternoon</td>\n",
       "    </tr>\n",
       "    <tr>\n",
       "      <th>1525</th>\n",
       "      <td>2023-08-16</td>\n",
       "      <td>12:46:00</td>\n",
       "      <td>758697800</td>\n",
       "      <td>Inquiry on buffing/Headlight</td>\n",
       "      <td>Garden City</td>\n",
       "      <td>Advised</td>\n",
       "      <td>12</td>\n",
       "      <td>Wednesday</td>\n",
       "      <td>16</td>\n",
       "      <td>August</td>\n",
       "      <td>Afternoon</td>\n",
       "    </tr>\n",
       "    <tr>\n",
       "      <th>1526</th>\n",
       "      <td>2023-08-16</td>\n",
       "      <td>16:22:00</td>\n",
       "      <td>728898775</td>\n",
       "      <td>Inquiry on Upholstery</td>\n",
       "      <td>Garden City</td>\n",
       "      <td>Advised</td>\n",
       "      <td>16</td>\n",
       "      <td>Wednesday</td>\n",
       "      <td>16</td>\n",
       "      <td>August</td>\n",
       "      <td>Afternoon</td>\n",
       "    </tr>\n",
       "  </tbody>\n",
       "</table>\n",
       "<p>1527 rows × 11 columns</p>\n",
       "</div>"
      ],
      "text/plain": [
       "            DATE      TIME      PHONE  \\\n",
       "0     2021-11-08  17:00:00  724230732   \n",
       "1     2021-11-09  13:00:00  708326449   \n",
       "2     2021-11-09  14:00:00        NaN   \n",
       "3     2021-11-10  17:09:00  718744485   \n",
       "4     2021-11-10  17:50:00  731114532   \n",
       "...          ...       ...        ...   \n",
       "1522  2023-08-12  14:10:00  710596654   \n",
       "1523  2023-08-12  14:40:00  799437046   \n",
       "1524  2023-08-14  13:58:00  710926966   \n",
       "1525  2023-08-16  12:46:00  758697800   \n",
       "1526  2023-08-16  16:22:00  728898775   \n",
       "\n",
       "                                        REASON FOR CALL LOCATION/OUTLET  \\\n",
       "0                                          Missing Mats     GARDEN CITY   \n",
       "1     Wanted to confirm whether they left Sunglasses...     GARDEN CITY   \n",
       "2            Inquiry on availability of job for his son     GARDEN CITY   \n",
       "3         Inquiry for Closing time in Two Rivers Outlet      TWO RIVERS   \n",
       "4             Complained of lost perfume (Versace Eros)     GARDEN CITY   \n",
       "...                                                 ...             ...   \n",
       "1522                                Inquiry on packages     Garden City   \n",
       "1523                       Inquiry on steam engine wash     Garden City   \n",
       "1524               Client requested laptop from the car         The Hub   \n",
       "1525                       Inquiry on buffing/Headlight     Garden City   \n",
       "1526                              Inquiry on Upholstery     Garden City   \n",
       "\n",
       "                        RESPONSE GIVEN/CONCLUSION  hour day_of_week  day  \\\n",
       "0                     Mats returned, to be picked    17      Monday    8   \n",
       "1                          Not available in store    13     Tuesday    9   \n",
       "2                Gave him the customer care email    14     Tuesday    9   \n",
       "3       Communicated 7pm as advised by supervisor    17   Wednesday   10   \n",
       "4     CCTV shows no evidence of item being picked    17   Wednesday   10   \n",
       "...                                           ...   ...         ...  ...   \n",
       "1522                                      Advised    14    Saturday   12   \n",
       "1523                                      Advised    14    Saturday   12   \n",
       "1524                                     Assisted    13      Monday   14   \n",
       "1525                                      Advised    12   Wednesday   16   \n",
       "1526                                      Advised    16   Wednesday   16   \n",
       "\n",
       "         month call_period  \n",
       "0     November     Evening  \n",
       "1     November   Afternoon  \n",
       "2     November   Afternoon  \n",
       "3     November     Evening  \n",
       "4     November     Evening  \n",
       "...        ...         ...  \n",
       "1522    August   Afternoon  \n",
       "1523    August   Afternoon  \n",
       "1524    August   Afternoon  \n",
       "1525    August   Afternoon  \n",
       "1526    August   Afternoon  \n",
       "\n",
       "[1527 rows x 11 columns]"
      ]
     },
     "execution_count": 13,
     "metadata": {},
     "output_type": "execute_result"
    }
   ],
   "source": [
    "# =========================\n",
    "# 3. Feature Engineering - Time Based\n",
    "# =========================\n",
    "# Explanation:\n",
    "# From the cleaned TIME and DATE columns, we extract key time-based features:\n",
    "# - hour: to analyze call patterns by hour of day\n",
    "# - day_of_week: to observe weekly trends\n",
    "# - day: day of the month (1-31)\n",
    "# - month: to see if complaints are seasonal\n",
    "# - call_period: Morning/Afternoon/Evening/Night based on hour\n",
    "\n",
    "# Extract hour from TIME\n",
    "calldata['hour'] = calldata['TIME'].apply(lambda t: t.hour if pd.notnull(t) else None)\n",
    "\n",
    "# Day of the week (e.g., Monday)\n",
    "calldata['day_of_week'] = pd.to_datetime(calldata['DATE']).dt.day_name()\n",
    "\n",
    "# Day of the month\n",
    "calldata['day'] = pd.to_datetime(calldata['DATE']).dt.day\n",
    "\n",
    "# Month name\n",
    "calldata['month'] = pd.to_datetime(calldata['DATE']).dt.month_name()\n",
    "\n",
    "# Custom period of day based on hour\n",
    "def get_call_period(hour):\n",
    "    if pd.isnull(hour):\n",
    "        return \"Unknown\"\n",
    "    if 5 <= hour < 12:\n",
    "        return \"Morning\"\n",
    "    elif 12 <= hour < 17:\n",
    "        return \"Afternoon\"\n",
    "    elif 17 <= hour < 21:\n",
    "        return \"Evening\"\n",
    "    else:\n",
    "        return \"Night\"\n",
    "\n",
    "calldata['call_period'] = calldata['hour'].apply(get_call_period)\n",
    "calldata\n"
   ]
  },
  {
   "cell_type": "code",
   "execution_count": 14,
   "id": "5a717e12",
   "metadata": {},
   "outputs": [
    {
     "name": "stdout",
     "output_type": "stream",
     "text": [
      "['DATE', 'TIME', 'PHONE', 'REASON FOR CALL', 'LOCATION/OUTLET', 'RESPONSE GIVEN/CONCLUSION', 'hour', 'day_of_week', 'day', 'month', 'call_period']\n"
     ]
    }
   ],
   "source": [
    "print(calldata.columns.tolist())\n"
   ]
  },
  {
   "cell_type": "code",
   "execution_count": 15,
   "id": "42e2a4b1",
   "metadata": {},
   "outputs": [
    {
     "name": "stderr",
     "output_type": "stream",
     "text": [
      "C:\\Users\\hp\\AppData\\Local\\Temp\\ipykernel_18168\\2826107327.py:5: FutureWarning: A value is trying to be set on a copy of a DataFrame or Series through chained assignment using an inplace method.\n",
      "The behavior will change in pandas 3.0. This inplace method will never work because the intermediate object on which we are setting values always behaves as a copy.\n",
      "\n",
      "For example, when doing 'df[col].method(value, inplace=True)', try using 'df.method({col: value}, inplace=True)' or df[col] = df[col].method(value) instead, to perform the operation inplace on the original object.\n",
      "\n",
      "\n",
      "  calldata[\"PHONE\"].fillna(\"Unknown Caller\", inplace=True)\n"
     ]
    }
   ],
   "source": [
    "# ✅ This block validates phone numbers, filters out invalid entries, \n",
    "# assigns anonymous aliases, and saves both the anonymized data and the private mapping.\n",
    "\n",
    "# Step 3: Fill missing phone numbers with 'Unknown Caller'\n",
    "calldata[\"PHONE\"].fillna(\"Unknown Caller\", inplace=True)\n",
    "\n",
    "# Step 3.5: Validate phone numbers — keep only numeric ones for aliasing\n",
    "valid_contacts = calldata[\"PHONE\"][calldata[\"PHONE\"].str.isnumeric()]\n",
    "unique_valid_contacts = valid_contacts.unique()\n",
    "\n",
    "# Step 4: Create mapping {actual_number: \"Caller 1\", \"Caller 2\", ...}\n",
    "phone_to_alias = {number: f\"Caller {i+1}\" for i, number in enumerate(unique_valid_contacts)}\n",
    "\n",
    "# Step 5: Replace actual phone numbers with anonymous aliases\n",
    "calldata[\"PHONE\"] = calldata[\"PHONE\"].replace(phone_to_alias)\n",
    "\n",
    "# Step 5.5: Rename the column for clarity\n",
    "calldata.rename(columns={\"PHONE\": \"CALLER ALIAS\"}, inplace=True)\n",
    "\n",
    "# Step 6: Save the mapping privately (this file is excluded via .gitignore)\n",
    "alias_df = pd.DataFrame(phone_to_alias.items(), columns=[\"Phone Number\", \"Caller Alias\"])\n",
    "alias_df.to_csv(\"private_phone_mapping.csv\", index=False)\n",
    "\n",
    "# ✅ Done: All phone numbers in `calldata` are now anonymized, with missing ones labeled as 'Unknown Caller'.\n"
   ]
  },
  {
   "cell_type": "code",
   "execution_count": 16,
   "id": "05dfa26d",
   "metadata": {},
   "outputs": [
    {
     "data": {
      "application/vnd.microsoft.datawrangler.viewer.v0+json": {
       "columns": [
        {
         "name": "index",
         "rawType": "int64",
         "type": "integer"
        },
        {
         "name": "DATE",
         "rawType": "object",
         "type": "unknown"
        },
        {
         "name": "TIME",
         "rawType": "object",
         "type": "unknown"
        },
        {
         "name": "CALLER ALIAS",
         "rawType": "object",
         "type": "string"
        },
        {
         "name": "REASON FOR CALL",
         "rawType": "object",
         "type": "string"
        },
        {
         "name": "LOCATION/OUTLET",
         "rawType": "object",
         "type": "string"
        },
        {
         "name": "RESPONSE GIVEN/CONCLUSION",
         "rawType": "object",
         "type": "string"
        },
        {
         "name": "hour",
         "rawType": "int64",
         "type": "integer"
        },
        {
         "name": "day_of_week",
         "rawType": "object",
         "type": "string"
        },
        {
         "name": "day",
         "rawType": "int32",
         "type": "integer"
        },
        {
         "name": "month",
         "rawType": "object",
         "type": "string"
        },
        {
         "name": "call_period",
         "rawType": "object",
         "type": "string"
        }
       ],
       "ref": "c86bb93c-6d8b-4ac0-b054-231ee6bb0bb6",
       "rows": [
        [
         "0",
         "2021-11-08",
         "17:00:00",
         "Caller 1",
         "Missing Mats",
         "GARDEN CITY",
         "Mats returned, to be picked",
         "17",
         "Monday",
         "8",
         "November",
         "Evening"
        ],
        [
         "1",
         "2021-11-09",
         "13:00:00",
         "Caller 2",
         "Wanted to confirm whether they left Sunglasses and Iphone charger",
         "GARDEN CITY",
         "Not available in store",
         "13",
         "Tuesday",
         "9",
         "November",
         "Afternoon"
        ],
        [
         "2",
         "2021-11-09",
         "14:00:00",
         "Unknown Caller",
         "Inquiry on availability of job for his son",
         "GARDEN CITY",
         "Gave him the customer care email",
         "14",
         "Tuesday",
         "9",
         "November",
         "Afternoon"
        ],
        [
         "3",
         "2021-11-10",
         "17:09:00",
         "Caller 3",
         "Inquiry for Closing time in Two Rivers Outlet",
         "TWO RIVERS",
         "Communicated 7pm as advised by supervisor",
         "17",
         "Wednesday",
         "10",
         "November",
         "Evening"
        ],
        [
         "4",
         "2021-11-10",
         "17:50:00",
         "Caller 4",
         "Complained of lost perfume (Versace Eros)",
         "GARDEN CITY",
         "CCTV shows no evidence of item being picked",
         "17",
         "Wednesday",
         "10",
         "November",
         "Evening"
        ],
        [
         "5",
         "2021-11-10",
         "17:59:00",
         "Unknown Caller",
         "Requested prompt receipt/invoice services, possibly on site",
         "GARDEN CITY",
         "for Management",
         "17",
         "Wednesday",
         "10",
         "November",
         "Evening"
        ],
        [
         "6",
         "2021-11-10",
         "23:00:00",
         "Caller 5",
         "Inquiry on Availability of  vouchers for his team and available rates",
         "GARDEN CITY",
         "Sent him our packages and rates",
         "23",
         "Wednesday",
         "10",
         "November",
         "Night"
        ],
        [
         "7",
         "2021-11-11",
         "07:48:00",
         "Caller 6",
         "Inquiry on locations",
         "Shell Lavington",
         "Advised him to visit Shell Lavington",
         "7",
         "Thursday",
         "11",
         "November",
         "Morning"
        ],
        [
         "8",
         "2021-11-11",
         "09:25:00",
         "Email",
         "Received job application for the post of carwash attendant",
         "Unknown Location",
         "Forwarded to Philip",
         "9",
         "Thursday",
         "11",
         "November",
         "Morning"
        ],
        [
         "9",
         "2021-11-11",
         "09:53:00",
         "Caller 7",
         "Inquiry on Rebuffing and interior cleaning",
         "Garden city",
         "Client received service at Garden city",
         "9",
         "Thursday",
         "11",
         "November",
         "Morning"
        ],
        [
         "10",
         "2021-11-11",
         "12:15:00",
         "Caller 8",
         "Wanted to know if Extreme is interested in Carwash space",
         "Kilimani",
         "for management",
         "12",
         "Thursday",
         "11",
         "November",
         "Afternoon"
        ],
        [
         "11",
         "2021-11-11",
         "19:26:00",
         "Unknown Caller",
         "Client drove off without paying 4850 (Cited car was very wet)",
         "Garden city",
         "Forwarded issue to Peter",
         "19",
         "Thursday",
         "11",
         "November",
         "Evening"
        ],
        [
         "12",
         "2021-11-12",
         "12:05:00",
         "Caller 9",
         "Left a mat ",
         "The Hub",
         "Mat available for pick up",
         "12",
         "Friday",
         "12",
         "November",
         "Afternoon"
        ],
        [
         "13",
         "2021-11-12",
         "13:54:00",
         "Caller 10",
         "Wanted to know if her car is ready",
         "Two Rivers",
         "Supervisor confirmed it was ready",
         "13",
         "Friday",
         "12",
         "November",
         "Afternoon"
        ],
        [
         "14",
         "2021-11-12",
         "15:59:00",
         "Caller 11",
         "Inquiry on Automated Carwash",
         "Any",
         "Advised",
         "15",
         "Friday",
         "12",
         "November",
         "Afternoon"
        ],
        [
         "15",
         "2021-11-12",
         "16:30:00",
         "Caller 12",
         "Required receipt promptly and not contented with buffing service",
         "Galleria",
         "Buffing windows is a different package (supervisor)",
         "16",
         "Friday",
         "12",
         "November",
         "Afternoon"
        ],
        [
         "16",
         "2021-11-12",
         "20:01:00",
         "Caller 13",
         "Paid for Wiper blades but not available, size 26 (waited 2 weeks)",
         "Garden City",
         "Wiper blades availed and installed",
         "20",
         "Friday",
         "12",
         "November",
         "Evening"
        ],
        [
         "17",
         "2021-11-13",
         "07:19:00",
         "Caller 14",
         "Inquiry on opening time",
         "Garden City",
         "Advised 8.00AM",
         "7",
         "Saturday",
         "13",
         "November",
         "Morning"
        ],
        [
         "18",
         "2021-11-13",
         "11:53:00",
         "Caller 15",
         "Requested interior cleaning in a stationary car",
         "The Hub",
         "Forwarded to Supervisor Brodox",
         "11",
         "Saturday",
         "13",
         "November",
         "Morning"
        ],
        [
         "19",
         "2021-11-13",
         "15:20:00",
         "Caller 16",
         "Interested in buying a car wash around Westlands",
         "Unknown Location",
         "For Management",
         "15",
         "Saturday",
         "13",
         "November",
         "Afternoon"
        ],
        [
         "20",
         "2021-11-13",
         "17:38:00",
         "Caller 17",
         "Client complained being denied service",
         "Shell Lavington",
         "Forwarded to Supervisor ",
         "17",
         "Saturday",
         "13",
         "November",
         "Evening"
        ],
        [
         "21",
         "2021-11-13",
         "18:10:00",
         "Caller 18",
         "Inquiry on opening time  and Packages",
         "Garden City",
         "Advised on time and packages",
         "18",
         "Saturday",
         "13",
         "November",
         "Evening"
        ],
        [
         "22",
         "2021-11-14",
         "19:39:00",
         "Mbuvi's",
         "Client compained of his car being dented.",
         "Garden City",
         "To be checked on CCTV (Car came in dented)",
         "19",
         "Sunday",
         "14",
         "November",
         "Evening"
        ],
        [
         "23",
         "2021-11-15",
         "18:27:00",
         "Caller 19",
         "Looking for a vacancy",
         "Any branch",
         "Forwarded to Human Resource (Phillip)",
         "18",
         "Monday",
         "15",
         "November",
         "Evening"
        ],
        [
         "24",
         "2021-11-16",
         "10:13:00",
         "Caller 20",
         "Inquiry on detailing (Mombasa rd)",
         "Southfield Mall",
         "Inquiry on detailing",
         "10",
         "Tuesday",
         "16",
         "November",
         "Morning"
        ],
        [
         "25",
         "2021-11-16",
         "16:13:00",
         "Caller 21",
         "Inquiry on Platinum package, Body and window buffing",
         "Shell Lavington",
         "Advised accordingly.",
         "16",
         "Tuesday",
         "16",
         "November",
         "Afternoon"
        ],
        [
         "26",
         "2021-11-16",
         "18:18:00",
         "Caller 22",
         "Inquiry on closing time.",
         "Two Rivers",
         "Advised ",
         "18",
         "Tuesday",
         "16",
         "November",
         "Evening"
        ],
        [
         "27",
         "2021-11-17",
         "10:26:00",
         "Caller 23",
         "Applied for a job as a driver",
         "Any",
         "Forwarded to Phillip",
         "10",
         "Wednesday",
         "17",
         "November",
         "Morning"
        ],
        [
         "28",
         "2021-11-17",
         "11:00:00",
         "Caller 24",
         "Forgor Car mats",
         "Garden City",
         "Supervisor kept them. (Wanyonyi)",
         "11",
         "Wednesday",
         "17",
         "November",
         "Morning"
        ],
        [
         "29",
         "2021-11-17",
         "11:39:00",
         "Caller 25",
         "Southfield mall wanted to update details on their website",
         "Southfield mall",
         "Sent Extreme Clean packages and detailing services",
         "11",
         "Wednesday",
         "17",
         "November",
         "Morning"
        ],
        [
         "30",
         "2021-11-17",
         "17:39:00",
         "Caller 26",
         "Inquiry on Scratch marks on the Windshield",
         "Galleria",
         "Advised to visit the location",
         "17",
         "Wednesday",
         "17",
         "November",
         "Evening"
        ],
        [
         "31",
         "2021-11-18",
         "16:06:00",
         "Caller 27",
         "Inquiry on opening time",
         "Southfield mall",
         "Advised",
         "16",
         "Thursday",
         "18",
         "November",
         "Afternoon"
        ],
        [
         "32",
         "2021-11-18",
         "20:33:00",
         "Caller 28",
         "Inquiry on Packages and Engine wash",
         "Mountain view",
         "Advised",
         "20",
         "Thursday",
         "18",
         "November",
         "Evening"
        ],
        [
         "33",
         "2021-11-19",
         "10:34:00",
         "Caller 29",
         "Inquiry on engine steam wash",
         "Any",
         "Advised",
         "10",
         "Friday",
         "19",
         "November",
         "Morning"
        ],
        [
         "34",
         "2021-11-19",
         "13:29:00",
         "Caller 30",
         "Inquiry on platinum package and Engine wash ",
         "Mountain View",
         "Advised",
         "13",
         "Friday",
         "19",
         "November",
         "Afternoon"
        ],
        [
         "35",
         "2021-11-19",
         "13:59:00",
         "Unknown Caller",
         "Unknown Reason",
         "Unknown Location",
         "Not Recorded",
         "13",
         "Friday",
         "19",
         "November",
         "Afternoon"
        ],
        [
         "36",
         "2021-11-19",
         "14:29:00",
         "Unknown Caller",
         "Unknown Reason",
         "Unknown Location",
         "Not Recorded",
         "14",
         "Friday",
         "19",
         "November",
         "Afternoon"
        ],
        [
         "37",
         "2021-11-19",
         "14:59:00",
         "Unknown Caller",
         "Unknown Reason",
         "Unknown Location",
         "Not Recorded",
         "14",
         "Friday",
         "19",
         "November",
         "Afternoon"
        ],
        [
         "38",
         "2021-11-20",
         "12:50:00",
         "Caller 31",
         "Inquiry on the time it will take to get her car worked on",
         "The Hub",
         "Advised",
         "12",
         "Saturday",
         "20",
         "November",
         "Afternoon"
        ],
        [
         "39",
         "2021-11-20",
         "13:10:00",
         "Caller 32",
         "Inquired if we are open on Sundays",
         "Ngong Rd",
         "Advised",
         "13",
         "Saturday",
         "20",
         "November",
         "Afternoon"
        ],
        [
         "40",
         "2021-11-20",
         "13:29:00",
         "Caller 33",
         "Inquiry on upholstery",
         "Galleria",
         "Advised",
         "13",
         "Saturday",
         "20",
         "November",
         "Afternoon"
        ],
        [
         "41",
         "2021-11-20",
         "17:35:00",
         "Caller 34",
         "Not contented with buffing service",
         "Galleria",
         "Supervisor advised rebuffing be done at The Hub",
         "17",
         "Saturday",
         "20",
         "November",
         "Evening"
        ],
        [
         "42",
         "2021-11-20",
         "18:50:00",
         "Caller 35",
         "Inquiry on Closing time",
         "Shell Lavington",
         "Advised",
         "18",
         "Saturday",
         "20",
         "November",
         "Evening"
        ],
        [
         "43",
         "2021-11-21",
         "16:11:00",
         "Caller 26",
         "Inquiry on removal of Scratch marks on the Windshield (2nd time)",
         "Galleria",
         "Advised to visit the location",
         "16",
         "Sunday",
         "21",
         "November",
         "Afternoon"
        ],
        [
         "44",
         "2021-11-22",
         "09:25:00",
         "Caller 24",
         "Missing Driver's black rubber mat",
         "Garden City",
         "Following up with Garden City Team",
         "9",
         "Monday",
         "22",
         "November",
         "Morning"
        ],
        [
         "45",
         "2021-11-22",
         "11:59:00",
         "Caller 36",
         "Inquiry on availability of vacancy",
         "Upperhill",
         "Forwarded to Phillip",
         "11",
         "Monday",
         "22",
         "November",
         "Morning"
        ],
        [
         "46",
         "2021-11-22",
         "13:24:00",
         "Caller 37",
         "Inquiry on availability of vacancy",
         "Any",
         "Forwarded to Phillip",
         "13",
         "Monday",
         "22",
         "November",
         "Afternoon"
        ],
        [
         "47",
         "2021-11-23",
         "09:43:00",
         "Caller 38",
         "Client wanted to speak to John Muli",
         "Office",
         "Sent John Muli the clients number.",
         "9",
         "Tuesday",
         "23",
         "November",
         "Morning"
        ],
        [
         "48",
         "2021-11-23",
         "14:35:00",
         "Caller 39",
         "Inquiry on packages",
         "Garden City",
         "Advised",
         "14",
         "Tuesday",
         "23",
         "November",
         "Afternoon"
        ],
        [
         "49",
         "2021-11-24",
         "00:14:00",
         "Caller 40",
         "Looking for a vacancy",
         "Southfield Mall",
         "Forwarded to Phillip",
         "0",
         "Wednesday",
         "24",
         "November",
         "Night"
        ]
       ],
       "shape": {
        "columns": 11,
        "rows": 1527
       }
      },
      "text/html": [
       "<div>\n",
       "<style scoped>\n",
       "    .dataframe tbody tr th:only-of-type {\n",
       "        vertical-align: middle;\n",
       "    }\n",
       "\n",
       "    .dataframe tbody tr th {\n",
       "        vertical-align: top;\n",
       "    }\n",
       "\n",
       "    .dataframe thead th {\n",
       "        text-align: right;\n",
       "    }\n",
       "</style>\n",
       "<table border=\"1\" class=\"dataframe\">\n",
       "  <thead>\n",
       "    <tr style=\"text-align: right;\">\n",
       "      <th></th>\n",
       "      <th>DATE</th>\n",
       "      <th>TIME</th>\n",
       "      <th>CALLER ALIAS</th>\n",
       "      <th>REASON FOR CALL</th>\n",
       "      <th>LOCATION/OUTLET</th>\n",
       "      <th>RESPONSE GIVEN/CONCLUSION</th>\n",
       "      <th>hour</th>\n",
       "      <th>day_of_week</th>\n",
       "      <th>day</th>\n",
       "      <th>month</th>\n",
       "      <th>call_period</th>\n",
       "    </tr>\n",
       "  </thead>\n",
       "  <tbody>\n",
       "    <tr>\n",
       "      <th>0</th>\n",
       "      <td>2021-11-08</td>\n",
       "      <td>17:00:00</td>\n",
       "      <td>Caller 1</td>\n",
       "      <td>Missing Mats</td>\n",
       "      <td>GARDEN CITY</td>\n",
       "      <td>Mats returned, to be picked</td>\n",
       "      <td>17</td>\n",
       "      <td>Monday</td>\n",
       "      <td>8</td>\n",
       "      <td>November</td>\n",
       "      <td>Evening</td>\n",
       "    </tr>\n",
       "    <tr>\n",
       "      <th>1</th>\n",
       "      <td>2021-11-09</td>\n",
       "      <td>13:00:00</td>\n",
       "      <td>Caller 2</td>\n",
       "      <td>Wanted to confirm whether they left Sunglasses...</td>\n",
       "      <td>GARDEN CITY</td>\n",
       "      <td>Not available in store</td>\n",
       "      <td>13</td>\n",
       "      <td>Tuesday</td>\n",
       "      <td>9</td>\n",
       "      <td>November</td>\n",
       "      <td>Afternoon</td>\n",
       "    </tr>\n",
       "    <tr>\n",
       "      <th>2</th>\n",
       "      <td>2021-11-09</td>\n",
       "      <td>14:00:00</td>\n",
       "      <td>Unknown Caller</td>\n",
       "      <td>Inquiry on availability of job for his son</td>\n",
       "      <td>GARDEN CITY</td>\n",
       "      <td>Gave him the customer care email</td>\n",
       "      <td>14</td>\n",
       "      <td>Tuesday</td>\n",
       "      <td>9</td>\n",
       "      <td>November</td>\n",
       "      <td>Afternoon</td>\n",
       "    </tr>\n",
       "    <tr>\n",
       "      <th>3</th>\n",
       "      <td>2021-11-10</td>\n",
       "      <td>17:09:00</td>\n",
       "      <td>Caller 3</td>\n",
       "      <td>Inquiry for Closing time in Two Rivers Outlet</td>\n",
       "      <td>TWO RIVERS</td>\n",
       "      <td>Communicated 7pm as advised by supervisor</td>\n",
       "      <td>17</td>\n",
       "      <td>Wednesday</td>\n",
       "      <td>10</td>\n",
       "      <td>November</td>\n",
       "      <td>Evening</td>\n",
       "    </tr>\n",
       "    <tr>\n",
       "      <th>4</th>\n",
       "      <td>2021-11-10</td>\n",
       "      <td>17:50:00</td>\n",
       "      <td>Caller 4</td>\n",
       "      <td>Complained of lost perfume (Versace Eros)</td>\n",
       "      <td>GARDEN CITY</td>\n",
       "      <td>CCTV shows no evidence of item being picked</td>\n",
       "      <td>17</td>\n",
       "      <td>Wednesday</td>\n",
       "      <td>10</td>\n",
       "      <td>November</td>\n",
       "      <td>Evening</td>\n",
       "    </tr>\n",
       "    <tr>\n",
       "      <th>...</th>\n",
       "      <td>...</td>\n",
       "      <td>...</td>\n",
       "      <td>...</td>\n",
       "      <td>...</td>\n",
       "      <td>...</td>\n",
       "      <td>...</td>\n",
       "      <td>...</td>\n",
       "      <td>...</td>\n",
       "      <td>...</td>\n",
       "      <td>...</td>\n",
       "      <td>...</td>\n",
       "    </tr>\n",
       "    <tr>\n",
       "      <th>1522</th>\n",
       "      <td>2023-08-12</td>\n",
       "      <td>14:10:00</td>\n",
       "      <td>Caller 1326</td>\n",
       "      <td>Inquiry on packages</td>\n",
       "      <td>Garden City</td>\n",
       "      <td>Advised</td>\n",
       "      <td>14</td>\n",
       "      <td>Saturday</td>\n",
       "      <td>12</td>\n",
       "      <td>August</td>\n",
       "      <td>Afternoon</td>\n",
       "    </tr>\n",
       "    <tr>\n",
       "      <th>1523</th>\n",
       "      <td>2023-08-12</td>\n",
       "      <td>14:40:00</td>\n",
       "      <td>Caller 1327</td>\n",
       "      <td>Inquiry on steam engine wash</td>\n",
       "      <td>Garden City</td>\n",
       "      <td>Advised</td>\n",
       "      <td>14</td>\n",
       "      <td>Saturday</td>\n",
       "      <td>12</td>\n",
       "      <td>August</td>\n",
       "      <td>Afternoon</td>\n",
       "    </tr>\n",
       "    <tr>\n",
       "      <th>1524</th>\n",
       "      <td>2023-08-14</td>\n",
       "      <td>13:58:00</td>\n",
       "      <td>Caller 1328</td>\n",
       "      <td>Client requested laptop from the car</td>\n",
       "      <td>The Hub</td>\n",
       "      <td>Assisted</td>\n",
       "      <td>13</td>\n",
       "      <td>Monday</td>\n",
       "      <td>14</td>\n",
       "      <td>August</td>\n",
       "      <td>Afternoon</td>\n",
       "    </tr>\n",
       "    <tr>\n",
       "      <th>1525</th>\n",
       "      <td>2023-08-16</td>\n",
       "      <td>12:46:00</td>\n",
       "      <td>Caller 1329</td>\n",
       "      <td>Inquiry on buffing/Headlight</td>\n",
       "      <td>Garden City</td>\n",
       "      <td>Advised</td>\n",
       "      <td>12</td>\n",
       "      <td>Wednesday</td>\n",
       "      <td>16</td>\n",
       "      <td>August</td>\n",
       "      <td>Afternoon</td>\n",
       "    </tr>\n",
       "    <tr>\n",
       "      <th>1526</th>\n",
       "      <td>2023-08-16</td>\n",
       "      <td>16:22:00</td>\n",
       "      <td>Caller 1330</td>\n",
       "      <td>Inquiry on Upholstery</td>\n",
       "      <td>Garden City</td>\n",
       "      <td>Advised</td>\n",
       "      <td>16</td>\n",
       "      <td>Wednesday</td>\n",
       "      <td>16</td>\n",
       "      <td>August</td>\n",
       "      <td>Afternoon</td>\n",
       "    </tr>\n",
       "  </tbody>\n",
       "</table>\n",
       "<p>1527 rows × 11 columns</p>\n",
       "</div>"
      ],
      "text/plain": [
       "            DATE      TIME    CALLER ALIAS  \\\n",
       "0     2021-11-08  17:00:00        Caller 1   \n",
       "1     2021-11-09  13:00:00        Caller 2   \n",
       "2     2021-11-09  14:00:00  Unknown Caller   \n",
       "3     2021-11-10  17:09:00        Caller 3   \n",
       "4     2021-11-10  17:50:00        Caller 4   \n",
       "...          ...       ...             ...   \n",
       "1522  2023-08-12  14:10:00     Caller 1326   \n",
       "1523  2023-08-12  14:40:00     Caller 1327   \n",
       "1524  2023-08-14  13:58:00     Caller 1328   \n",
       "1525  2023-08-16  12:46:00     Caller 1329   \n",
       "1526  2023-08-16  16:22:00     Caller 1330   \n",
       "\n",
       "                                        REASON FOR CALL LOCATION/OUTLET  \\\n",
       "0                                          Missing Mats     GARDEN CITY   \n",
       "1     Wanted to confirm whether they left Sunglasses...     GARDEN CITY   \n",
       "2            Inquiry on availability of job for his son     GARDEN CITY   \n",
       "3         Inquiry for Closing time in Two Rivers Outlet      TWO RIVERS   \n",
       "4             Complained of lost perfume (Versace Eros)     GARDEN CITY   \n",
       "...                                                 ...             ...   \n",
       "1522                                Inquiry on packages     Garden City   \n",
       "1523                       Inquiry on steam engine wash     Garden City   \n",
       "1524               Client requested laptop from the car         The Hub   \n",
       "1525                       Inquiry on buffing/Headlight     Garden City   \n",
       "1526                              Inquiry on Upholstery     Garden City   \n",
       "\n",
       "                        RESPONSE GIVEN/CONCLUSION  hour day_of_week  day  \\\n",
       "0                     Mats returned, to be picked    17      Monday    8   \n",
       "1                          Not available in store    13     Tuesday    9   \n",
       "2                Gave him the customer care email    14     Tuesday    9   \n",
       "3       Communicated 7pm as advised by supervisor    17   Wednesday   10   \n",
       "4     CCTV shows no evidence of item being picked    17   Wednesday   10   \n",
       "...                                           ...   ...         ...  ...   \n",
       "1522                                      Advised    14    Saturday   12   \n",
       "1523                                      Advised    14    Saturday   12   \n",
       "1524                                     Assisted    13      Monday   14   \n",
       "1525                                      Advised    12   Wednesday   16   \n",
       "1526                                      Advised    16   Wednesday   16   \n",
       "\n",
       "         month call_period  \n",
       "0     November     Evening  \n",
       "1     November   Afternoon  \n",
       "2     November   Afternoon  \n",
       "3     November     Evening  \n",
       "4     November     Evening  \n",
       "...        ...         ...  \n",
       "1522    August   Afternoon  \n",
       "1523    August   Afternoon  \n",
       "1524    August   Afternoon  \n",
       "1525    August   Afternoon  \n",
       "1526    August   Afternoon  \n",
       "\n",
       "[1527 rows x 11 columns]"
      ]
     },
     "execution_count": 16,
     "metadata": {},
     "output_type": "execute_result"
    }
   ],
   "source": [
    "calldata"
   ]
  },
  {
   "cell_type": "code",
   "execution_count": 17,
   "id": "c9657d35",
   "metadata": {},
   "outputs": [
    {
     "name": "stderr",
     "output_type": "stream",
     "text": [
      "C:\\Users\\hp\\AppData\\Local\\Temp\\ipykernel_18168\\1391983730.py:42: FutureWarning: \n",
      "\n",
      "Passing `palette` without assigning `hue` is deprecated and will be removed in v0.14.0. Assign the `y` variable to `hue` and set `legend=False` for the same effect.\n",
      "\n",
      "  sns.barplot(data=frequent_callers, x=\"Number of Calls\", y=\"CALLER ALIAS\", ax=axs[0, 0], palette=\"Greens_d\")\n",
      "C:\\Users\\hp\\AppData\\Local\\Temp\\ipykernel_18168\\1391983730.py:54: FutureWarning: \n",
      "\n",
      "Passing `palette` without assigning `hue` is deprecated and will be removed in v0.14.0. Assign the `y` variable to `hue` and set `legend=False` for the same effect.\n",
      "\n",
      "  sns.barplot(x=location_dist.values, y=location_dist.index, ax=axs[1, 0], palette=\"Greens\")\n",
      "C:\\Users\\hp\\AppData\\Local\\Temp\\ipykernel_18168\\1391983730.py:60: FutureWarning: \n",
      "\n",
      "Passing `palette` without assigning `hue` is deprecated and will be removed in v0.14.0. Assign the `x` variable to `hue` and set `legend=False` for the same effect.\n",
      "\n",
      "  sns.barplot(x=call_period_dist.index, y=call_period_dist.values, ax=axs[1, 1], palette=\"BuGn_r\")\n",
      "C:\\Users\\hp\\AppData\\Local\\Temp\\ipykernel_18168\\1391983730.py:65: UserWarning: Glyph 128222 (\\N{TELEPHONE RECEIVER}) missing from font(s) Arial.\n",
      "  plt.tight_layout(rect=[0, 0.03, 1, 0.95])\n",
      "C:\\Users\\hp\\AppData\\Local\\Temp\\ipykernel_18168\\1391983730.py:66: UserWarning: Glyph 128222 (\\N{TELEPHONE RECEIVER}) missing from font(s) Arial.\n",
      "  plt.savefig(\"Output/Caller_Alias_Insights.png\", dpi=300)\n",
      "c:\\Users\\hp\\anaconda33\\Lib\\site-packages\\IPython\\core\\pylabtools.py:170: UserWarning: Glyph 128222 (\\N{TELEPHONE RECEIVER}) missing from font(s) Arial.\n",
      "  fig.canvas.print_figure(bytes_io, **kw)\n"
     ]
    },
    {
     "data": {
      "image/png": "[encoded data removed]",
      "text/plain": [
       "<Figure size 1600x1000 with 4 Axes>"
      ]
     },
     "metadata": {},
     "output_type": "display_data"
    }
   ],
   "source": [
    "import pandas as pd\n",
    "import seaborn as sns\n",
    "import matplotlib.pyplot as plt\n",
    "import os\n",
    "\n",
    "# Ensure Output folder exists\n",
    "os.makedirs(\"Output\", exist_ok=True)\n",
    "\n",
    "# Set Seaborn theme\n",
    "sns.set_theme(style=\"whitegrid\", palette=\"Greens\")\n",
    "\n",
    "# -------- Clean CALLER ALIAS --------\n",
    "filtered_data = calldata[\n",
    "    calldata[\"CALLER ALIAS\"].notna() &\n",
    "    (calldata[\"CALLER ALIAS\"].str.strip() != \"\") &\n",
    "    (~calldata[\"CALLER ALIAS\"].str.lower().str.contains(\"unknown\"))\n",
    "]\n",
    "\n",
    "# --- Top 10 Frequent Callers ---\n",
    "frequent_callers = (\n",
    "    filtered_data[\"CALLER ALIAS\"]\n",
    "    .value_counts()\n",
    "    .reset_index(name=\"Number of Calls\")\n",
    "    .rename(columns={\"index\": \"CALLER ALIAS\"})\n",
    "    .head(10)\n",
    ")\n",
    "\n",
    "# --- Hourly Call Distribution ---\n",
    "hourly_dist = filtered_data[\"hour\"].value_counts().sort_index()\n",
    "\n",
    "# --- Location/Outlet Analysis ---\n",
    "location_dist = filtered_data[\"LOCATION/OUTLET\"].value_counts().head(10)\n",
    "\n",
    "# --- Calls by Call Period ---\n",
    "call_period_dist = filtered_data[\"call_period\"].value_counts()\n",
    "\n",
    "# ---------- Plot All 4 in One Chart ----------\n",
    "fig, axs = plt.subplots(2, 2, figsize=(16, 10))\n",
    "fig.suptitle(\"📞 Caller Alias Insights – Cleaned Data View (No Unknowns)\", fontsize=18, fontweight='bold')\n",
    "\n",
    "# 1. Top Callers\n",
    "sns.barplot(data=frequent_callers, x=\"Number of Calls\", y=\"CALLER ALIAS\", ax=axs[0, 0], palette=\"Greens_d\")\n",
    "axs[0, 0].set_title(\"Top 10 Frequent Callers\", fontsize=14)\n",
    "axs[0, 0].set_xlabel(\"Number of Calls\")\n",
    "axs[0, 0].set_ylabel(\"Caller Alias\")\n",
    "\n",
    "# 2. Hourly Distribution\n",
    "sns.lineplot(x=hourly_dist.index, y=hourly_dist.values, marker=\"o\", ax=axs[0, 1], color=\"green\")\n",
    "axs[0, 1].set_title(\"Calls by Hour of Day\", fontsize=14)\n",
    "axs[0, 1].set_xlabel(\"Hour (24H)\")\n",
    "axs[0, 1].set_ylabel(\"Number of Calls\")\n",
    "\n",
    "# 3. Location-Based Calls\n",
    "sns.barplot(x=location_dist.values, y=location_dist.index, ax=axs[1, 0], palette=\"Greens\")\n",
    "axs[1, 0].set_title(\"Top 10 Locations by Call Volume\", fontsize=14)\n",
    "axs[1, 0].set_xlabel(\"Number of Calls\")\n",
    "axs[1, 0].set_ylabel(\"Location/Outlet\")\n",
    "\n",
    "# 4. Call Periods\n",
    "sns.barplot(x=call_period_dist.index, y=call_period_dist.values, ax=axs[1, 1], palette=\"BuGn_r\")\n",
    "axs[1, 1].set_title(\"Calls by Time Period\", fontsize=14)\n",
    "axs[1, 1].set_xlabel(\"Call Period\")\n",
    "axs[1, 1].set_ylabel(\"Number of Calls\")\n",
    "\n",
    "plt.tight_layout(rect=[0, 0.03, 1, 0.95])\n",
    "plt.savefig(\"Output/Caller_Alias_Insights.png\", dpi=300)\n",
    "plt.show()\n"
   ]
  },
  {
   "cell_type": "code",
   "execution_count": 18,
   "id": "79ad29a3",
   "metadata": {},
   "outputs": [
    {
     "data": {
      "application/vnd.microsoft.datawrangler.viewer.v0+json": {
       "columns": [
        {
         "name": "index",
         "rawType": "int64",
         "type": "integer"
        },
        {
         "name": "Caller Alias",
         "rawType": "object",
         "type": "string"
        },
        {
         "name": "Number of Calls",
         "rawType": "int64",
         "type": "integer"
        }
       ],
       "ref": "5843eec9-5c22-4e4f-8b9f-ac6c82009294",
       "rows": [
        [
         "1",
         "Caller 855",
         "4"
        ],
        [
         "2",
         "Caller 1155",
         "4"
        ],
        [
         "3",
         "Caller 415",
         "4"
        ],
        [
         "4",
         "Caller 933",
         "4"
        ],
        [
         "5",
         "Caller 932",
         "3"
        ],
        [
         "6",
         "Caller 896",
         "3"
        ],
        [
         "7",
         "Caller 21",
         "3"
        ],
        [
         "8",
         "Caller 49",
         "3"
        ],
        [
         "9",
         "Caller 24",
         "3"
        ],
        [
         "10",
         "Caller 325",
         "3"
        ]
       ],
       "shape": {
        "columns": 2,
        "rows": 10
       }
      },
      "text/html": [
       "<div>\n",
       "<style scoped>\n",
       "    .dataframe tbody tr th:only-of-type {\n",
       "        vertical-align: middle;\n",
       "    }\n",
       "\n",
       "    .dataframe tbody tr th {\n",
       "        vertical-align: top;\n",
       "    }\n",
       "\n",
       "    .dataframe thead th {\n",
       "        text-align: right;\n",
       "    }\n",
       "</style>\n",
       "<table border=\"1\" class=\"dataframe\">\n",
       "  <thead>\n",
       "    <tr style=\"text-align: right;\">\n",
       "      <th></th>\n",
       "      <th>Caller Alias</th>\n",
       "      <th>Number of Calls</th>\n",
       "    </tr>\n",
       "  </thead>\n",
       "  <tbody>\n",
       "    <tr>\n",
       "      <th>1</th>\n",
       "      <td>Caller 855</td>\n",
       "      <td>4</td>\n",
       "    </tr>\n",
       "    <tr>\n",
       "      <th>2</th>\n",
       "      <td>Caller 1155</td>\n",
       "      <td>4</td>\n",
       "    </tr>\n",
       "    <tr>\n",
       "      <th>3</th>\n",
       "      <td>Caller 415</td>\n",
       "      <td>4</td>\n",
       "    </tr>\n",
       "    <tr>\n",
       "      <th>4</th>\n",
       "      <td>Caller 933</td>\n",
       "      <td>4</td>\n",
       "    </tr>\n",
       "    <tr>\n",
       "      <th>5</th>\n",
       "      <td>Caller 932</td>\n",
       "      <td>3</td>\n",
       "    </tr>\n",
       "    <tr>\n",
       "      <th>6</th>\n",
       "      <td>Caller 896</td>\n",
       "      <td>3</td>\n",
       "    </tr>\n",
       "    <tr>\n",
       "      <th>7</th>\n",
       "      <td>Caller 21</td>\n",
       "      <td>3</td>\n",
       "    </tr>\n",
       "    <tr>\n",
       "      <th>8</th>\n",
       "      <td>Caller 49</td>\n",
       "      <td>3</td>\n",
       "    </tr>\n",
       "    <tr>\n",
       "      <th>9</th>\n",
       "      <td>Caller 24</td>\n",
       "      <td>3</td>\n",
       "    </tr>\n",
       "    <tr>\n",
       "      <th>10</th>\n",
       "      <td>Caller 325</td>\n",
       "      <td>3</td>\n",
       "    </tr>\n",
       "  </tbody>\n",
       "</table>\n",
       "</div>"
      ],
      "text/plain": [
       "   Caller Alias  Number of Calls\n",
       "1    Caller 855                4\n",
       "2   Caller 1155                4\n",
       "3    Caller 415                4\n",
       "4    Caller 933                4\n",
       "5    Caller 932                3\n",
       "6    Caller 896                3\n",
       "7     Caller 21                3\n",
       "8     Caller 49                3\n",
       "9     Caller 24                3\n",
       "10   Caller 325                3"
      ]
     },
     "execution_count": 18,
     "metadata": {},
     "output_type": "execute_result"
    }
   ],
   "source": [
    "frequent_callers = calldata['CALLER ALIAS'].value_counts().reset_index()\n",
    "frequent_callers.columns = ['Caller Alias', 'Number of Calls']\n",
    "\n",
    "# Exclude 'Unknown Caller'\n",
    "frequent_callers = frequent_callers[frequent_callers['Caller Alias'] != 'Unknown Caller']\n",
    "\n",
    "# Get top 10 callers\n",
    "top_callers = frequent_callers.head(10)\n",
    "top_callers\n"
   ]
  },
  {
   "cell_type": "markdown",
   "id": "773c82d8",
   "metadata": {},
   "source": [
    "### Time-Based Visualizations Plan\n",
    "Calls by Hour of Day\n",
    "→ Shows peak call times throughout the day.\n",
    "\n",
    "Calls by Day of the Week\n",
    "→ Reveals which weekdays are busier.\n",
    "\n",
    "Calls by Month\n",
    "→ Highlights seasonal or monthly trends.\n",
    "\n",
    "Calls by Time Period (Morning, Afternoon, Evening, Night)\n",
    "→ Gives a more intuitive overview of call timin"
   ]
  },
  {
   "cell_type": "code",
   "execution_count": 19,
   "id": "8614f7de",
   "metadata": {},
   "outputs": [
    {
     "name": "stderr",
     "output_type": "stream",
     "text": [
      "C:\\Users\\hp\\AppData\\Local\\Temp\\ipykernel_18168\\3995207470.py:19: UserWarning: The palette list has more values (24) than needed (22), which may not be intended.\n",
      "  sns.countplot(x=\"hour\", data=calldata, ax=axes[0, 0], hue=\"hour\", palette=green_palette_large, legend=False)\n",
      "C:\\Users\\hp\\AppData\\Local\\Temp\\ipykernel_18168\\3995207470.py:26: UserWarning: The palette list has more values (24) than needed (7), which may not be intended.\n",
      "  sns.countplot(x=\"day_of_week\", data=calldata, order=day_order, hue=\"day_of_week\", palette=green_palette_large, ax=axes[0, 1], legend=False)\n",
      "C:\\Users\\hp\\AppData\\Local\\Temp\\ipykernel_18168\\3995207470.py:36: FutureWarning: \n",
      "\n",
      "Passing `palette` without assigning `hue` is deprecated and will be removed in v0.14.0. Assign the `x` variable to `hue` and set `legend=False` for the same effect.\n",
      "\n",
      "  sns.barplot(x=month_data.index, y=month_data.values, palette=green_palette_large[:len(month_data)], ax=axes[1, 0])\n",
      "C:\\Users\\hp\\AppData\\Local\\Temp\\ipykernel_18168\\3995207470.py:44: UserWarning: The palette list has more values (24) than needed (4), which may not be intended.\n",
      "  sns.countplot(x=\"call_period\", data=calldata, order=period_order, hue=\"call_period\", palette=green_palette_large, ax=axes[1, 1], legend=False)\n"
     ]
    },
    {
     "data": {
      "image/png": "[encoded data removed]",
      "text/plain": [
       "<Figure size 1600x1200 with 4 Axes>"
      ]
     },
     "metadata": {},
     "output_type": "display_data"
    }
   ],
   "source": [
    "import matplotlib.pyplot as plt\n",
    "import seaborn as sns\n",
    "import os\n",
    "\n",
    "# Set Seaborn style\n",
    "sns.set(style=\"whitegrid\")\n",
    "\n",
    "# Create Output folder if it doesn't exist\n",
    "os.makedirs(\"Output\", exist_ok=True)\n",
    "\n",
    "# Create larger green palette to avoid cycling issues\n",
    "green_palette_large = sns.color_palette(\"Greens_d\", n_colors=24)\n",
    "\n",
    "# Set up figure with 2x2 subplots\n",
    "fig, axes = plt.subplots(2, 2, figsize=(16, 12))\n",
    "fig.suptitle(\"Time-Based Customer Call Analysis\", fontsize=18, fontweight=\"bold\", color=\"darkgreen\")\n",
    "\n",
    "# 1. Call volume by hour\n",
    "sns.countplot(x=\"hour\", data=calldata, ax=axes[0, 0], hue=\"hour\", palette=green_palette_large, legend=False)\n",
    "axes[0, 0].set_title(\"Calls by Hour\", fontsize=14, color=\"forestgreen\")\n",
    "axes[0, 0].set_xlabel(\"Hour of Day\")\n",
    "axes[0, 0].set_ylabel(\"Number of Calls\")\n",
    "\n",
    "# 2. Call volume by day of the week\n",
    "day_order = [\"Monday\", \"Tuesday\", \"Wednesday\", \"Thursday\", \"Friday\", \"Saturday\", \"Sunday\"]\n",
    "sns.countplot(x=\"day_of_week\", data=calldata, order=day_order, hue=\"day_of_week\", palette=green_palette_large, ax=axes[0, 1], legend=False)\n",
    "axes[0, 1].set_title(\"Calls by Day of Week\", fontsize=14, color=\"forestgreen\")\n",
    "axes[0, 1].set_xlabel(\"Day\")\n",
    "axes[0, 1].set_ylabel(\"Number of Calls\")\n",
    "axes[0, 1].tick_params(axis='x', rotation=30)\n",
    "\n",
    "# 3. Call volume by month\n",
    "month_order = [\"January\", \"February\", \"March\", \"April\", \"May\", \"June\",\n",
    "               \"July\", \"August\", \"September\", \"October\", \"November\", \"December\"]\n",
    "month_data = calldata[\"month\"].value_counts().reindex(month_order).dropna()\n",
    "sns.barplot(x=month_data.index, y=month_data.values, palette=green_palette_large[:len(month_data)], ax=axes[1, 0])\n",
    "axes[1, 0].set_title(\"Calls by Month\", fontsize=14, color=\"forestgreen\")\n",
    "axes[1, 0].set_xlabel(\"Month\")\n",
    "axes[1, 0].set_ylabel(\"Number of Calls\")\n",
    "axes[1, 0].tick_params(axis='x', rotation=30)\n",
    "\n",
    "# 4. Call period (morning/afternoon/etc)\n",
    "period_order = [\"Morning\", \"Afternoon\", \"Evening\", \"Night\"]\n",
    "sns.countplot(x=\"call_period\", data=calldata, order=period_order, hue=\"call_period\", palette=green_palette_large, ax=axes[1, 1], legend=False)\n",
    "axes[1, 1].set_title(\"Calls by Period of Day\", fontsize=14, color=\"forestgreen\")\n",
    "axes[1, 1].set_xlabel(\"Period\")\n",
    "axes[1, 1].set_ylabel(\"Number of Calls\")\n",
    "\n",
    "# Final touches\n",
    "plt.tight_layout(rect=[0, 0, 1, 0.96])\n",
    "plt.savefig(\"Output/time_based_call_analysis.png\", dpi=300)\n",
    "plt.show()\n"
   ]
  },
  {
   "cell_type": "code",
   "execution_count": 20,
   "id": "a51d2709",
   "metadata": {},
   "outputs": [
    {
     "name": "stderr",
     "output_type": "stream",
     "text": [
      "C:\\Users\\hp\\AppData\\Local\\Temp\\ipykernel_18168\\2504346831.py:18: UserWarning: Glyph 128200 (\\N{CHART WITH UPWARDS TREND}) missing from font(s) Arial.\n",
      "  plt.tight_layout()\n",
      "C:\\Users\\hp\\AppData\\Local\\Temp\\ipykernel_18168\\2504346831.py:21: UserWarning: Glyph 128200 (\\N{CHART WITH UPWARDS TREND}) missing from font(s) Arial.\n",
      "  plt.savefig(\"Output/monthly_call_trends.png\", dpi=300)\n",
      "c:\\Users\\hp\\anaconda33\\Lib\\site-packages\\IPython\\core\\pylabtools.py:170: UserWarning: Glyph 128200 (\\N{CHART WITH UPWARDS TREND}) missing from font(s) Arial.\n",
      "  fig.canvas.print_figure(bytes_io, **kw)\n"
     ]
    },
    {
     "data": {
      "image/png": "[encoded data removed]",
      "text/plain": [
       "<Figure size 1400x600 with 1 Axes>"
      ]
     },
     "metadata": {},
     "output_type": "display_data"
    }
   ],
   "source": [
    "# Ensure 'DATE' is datetime\n",
    "calldata['DATE'] = pd.to_datetime(calldata['DATE'])\n",
    "\n",
    "# Create Year-Month column\n",
    "calldata['YearMonth'] = calldata['DATE'].dt.to_period('M').astype(str)\n",
    "\n",
    "# Group and count\n",
    "monthly_trend = calldata.groupby('YearMonth').size().reset_index(name='Number of Calls')\n",
    "\n",
    "# Plot\n",
    "plt.figure(figsize=(14, 6))\n",
    "sns.lineplot(data=monthly_trend, x='YearMonth', y='Number of Calls', marker='o', color='green')\n",
    "plt.title(\"📈 Monthly Call Trends Over Time\", fontsize=16, color='darkgreen')\n",
    "plt.xlabel(\"Month-Year\")\n",
    "plt.ylabel(\"Number of Calls\")\n",
    "plt.xticks(rotation=45)\n",
    "plt.grid(True)\n",
    "plt.tight_layout()\n",
    "\n",
    "# Save\n",
    "plt.savefig(\"Output/monthly_call_trends.png\", dpi=300)\n",
    "plt.show()\n"
   ]
  },
  {
   "cell_type": "code",
   "execution_count": 21,
   "id": "4ab1be7f",
   "metadata": {},
   "outputs": [
    {
     "name": "stderr",
     "output_type": "stream",
     "text": [
      "C:\\Users\\hp\\AppData\\Local\\Temp\\ipykernel_18168\\1998817729.py:17: FutureWarning: \n",
      "\n",
      "Passing `palette` without assigning `hue` is deprecated and will be removed in v0.14.0. Assign the `y` variable to `hue` and set `legend=False` for the same effect.\n",
      "\n",
      "  sns.barplot(\n",
      "C:\\Users\\hp\\AppData\\Local\\Temp\\ipykernel_18168\\1998817729.py:17: UserWarning: \n",
      "The palette list has fewer values (8) than needed (10) and will cycle, which may produce an uninterpretable plot.\n",
      "  sns.barplot(\n",
      "C:\\Users\\hp\\AppData\\Local\\Temp\\ipykernel_18168\\1998817729.py:31: UserWarning: The palette list has more values (8) than needed (5), which may not be intended.\n",
      "  sns.countplot(\n",
      "C:\\Users\\hp\\AppData\\Local\\Temp\\ipykernel_18168\\1998817729.py:43: UserWarning: Glyph 128205 (\\N{ROUND PUSHPIN}) missing from font(s) Arial.\n",
      "  plt.tight_layout(rect=[0, 0, 1, 0.95])\n",
      "C:\\Users\\hp\\AppData\\Local\\Temp\\ipykernel_18168\\1998817729.py:44: UserWarning: Glyph 128205 (\\N{ROUND PUSHPIN}) missing from font(s) Arial.\n",
      "  plt.savefig(\"Output/location_based_analysis.png\", dpi=300)\n",
      "c:\\Users\\hp\\anaconda33\\Lib\\site-packages\\IPython\\core\\pylabtools.py:170: UserWarning: Glyph 128205 (\\N{ROUND PUSHPIN}) missing from font(s) Arial.\n",
      "  fig.canvas.print_figure(bytes_io, **kw)\n"
     ]
    },
    {
     "data": {
      "image/png": "[encoded data removed]",
      "text/plain": [
       "<Figure size 1800x600 with 2 Axes>"
      ]
     },
     "metadata": {},
     "output_type": "display_data"
    }
   ],
   "source": [
    "import matplotlib.pyplot as plt\n",
    "import seaborn as sns\n",
    "\n",
    "# Set style\n",
    "sns.set(style=\"whitegrid\")\n",
    "\n",
    "# Create a green color palette\n",
    "green_palette = sns.color_palette(\"Greens\", as_cmap=False, n_colors=8)\n",
    "\n",
    "# Figure size\n",
    "fig, axes = plt.subplots(1, 2, figsize=(18, 6))\n",
    "fig.suptitle(\"📍 Location-Based Call Analysis\", fontsize=18, fontweight='bold')\n",
    "\n",
    "# Top Locations by number of calls\n",
    "top_locations = calldata['LOCATION/OUTLET'].value_counts().head(10)\n",
    "\n",
    "sns.barplot(\n",
    "    x=top_locations.values,\n",
    "    y=top_locations.index,\n",
    "    palette=green_palette,\n",
    "    ax=axes[0]\n",
    ")\n",
    "axes[0].set_title(\"Top 10 Locations by Call Volume\", fontsize=14)\n",
    "axes[0].set_xlabel(\"Number of Calls\")\n",
    "axes[0].set_ylabel(\"Location\")\n",
    "\n",
    "# Calls by time of day per location (top 5 locations only)\n",
    "top5_locs = calldata['LOCATION/OUTLET'].value_counts().head(5).index\n",
    "filtered_data = calldata[calldata['LOCATION/OUTLET'].isin(top5_locs)]\n",
    "\n",
    "sns.countplot(\n",
    "    data=filtered_data,\n",
    "    x='call_period',\n",
    "    hue='LOCATION/OUTLET',\n",
    "    order=['Morning', 'Afternoon', 'Evening', 'Night'],\n",
    "    palette=green_palette,\n",
    "    ax=axes[1]\n",
    ")\n",
    "axes[1].set_title(\"Call Period Distribution for Top 5 Locations\", fontsize=14)\n",
    "axes[1].set_xlabel(\"Call Period\")\n",
    "axes[1].set_ylabel(\"Number of Calls\")\n",
    "\n",
    "plt.tight_layout(rect=[0, 0, 1, 0.95])\n",
    "plt.savefig(\"Output/location_based_analysis.png\", dpi=300)\n",
    "plt.show()\n"
   ]
  },
  {
   "cell_type": "markdown",
   "id": "30e8655e",
   "metadata": {},
   "source": [
    "High-volume regions may require extra staffing or service optimization.\n",
    "\n",
    "Time-of-day trends can inform shift scheduling or targeted responses.\n",
    "\n",
    "Call clustering in certain areas may indicate product/service issues."
   ]
  },
  {
   "cell_type": "markdown",
   "id": "13ead24f",
   "metadata": {},
   "source": [
    "## 📍 Location-Based Call Analysis\n",
    "\n",
    "### 🔹 Top 10 Locations by Call Volume\n",
    "\n",
    "This bar chart highlights the locations from which the most customer care calls originated.\n",
    "\n",
    "**Key Insights:**\n",
    "- **Garden City** has the **highest call volume**, suggesting it may require additional support or resources.\n",
    "- Other high-call locations include **Galleria**, **The Hub**, **Two Rivers**, and **TRM**.\n",
    "- Entries such as **“Unknown Location”** and **“Any”** likely represent missing or generalized data — these should be cleaned or categorized more clearly for future analysis.\n",
    "\n",
    "---\n",
    "\n",
    "### 🕒 Call Period Distribution for Top 5 Locations\n",
    "\n",
    "This visualization breaks down call activity across different times of day — Morning, Afternoon, Evening, and Night — for the five most active locations.\n",
    "\n",
    "**Key Insights:**\n",
    "- **Afternoon** and **Evening** are the busiest periods for most top locations, especially **Garden City**, **TRM**, and **Galleria**.\n",
    "- **Night-time calls are minimal**, which may reflect operational hours or low late-night customer demand.\n",
    "- These patterns can be used to guide **staffing schedules** and **resource allocation** throughout the day.\n",
    "\n",
    "---\n",
    "\n",
    "### ✅ Business Takeaways\n",
    "- 📌 **Operational Strategy**: Focus on high-volume locations like **Garden City** and **Galleria** to reduce congestion and improve service quality.\n",
    "- 👥 **Workforce Planning**: Schedule more agents during **afternoon peak hours** to handle higher call loads efficiently.\n",
    "- 🧹 **Data Hygiene**: Clean ambiguous entries like **\"Any\"** and **\"Unknown\"** to improve data accuracy and the reliability of insights.\n"
   ]
  },
  {
   "cell_type": "markdown",
   "id": "19dc9f1a",
   "metadata": {},
   "source": [
    "## 📝 Reason-Based Call Analysis\n",
    "\n",
    "### 🔹 Top 15 Reasons for Customer Calls\n",
    "\n",
    "This horizontal bar chart displays the **15 most common reasons** why customers contacted support.\n",
    "\n",
    "**Key Insights:**\n",
    "- **\"CALL FOR SERVICE\"** is by far the most frequent reason, indicating that customers often seek service assistance rather than making complaints or inquiries.\n",
    "- Other common reasons include:\n",
    "  - **\"INQUIRY\"**\n",
    "  - **\"CALL TO FIND OUT IF CAR IS READY\"**\n",
    "  - **\"FOLLOW UP\"**\n",
    "- The variety of reasons reflects a **wide range of customer needs**, from basic inquiries to vehicle service tracking.\n",
    "\n",
    "---\n",
    "\n",
    "### 🕒 Most Common Reason by Call Period\n",
    "\n",
    "This chart shows the **most common reason for calling**, segmented by time of day (Morning, Afternoon, Evening, Night).\n",
    "\n",
    "**Key Insights:**\n",
    "- **Afternoon and morning** hours consistently show higher call activity for **\"CALL FOR SERVICE\"** and **\"INQUIRY\"**.\n",
    "- The **\"FOLLOW UP\"** reason is more spread out across the day, reflecting ongoing communication loops.\n",
    "- **Night** time has the lowest call volumes, and the reasons are mostly for **urgent service needs or clarifications**.\n",
    "\n",
    "---\n",
    "\n",
    "### ✅ Business Takeaways\n",
    "- 📞 **Service Demand**: Prioritize rapid response for **service-related calls**, especially during **morning and afternoon hours**.\n",
    "- 📊 **Categorization Refinement**: Consider merging similar categories (e.g., \"INQUIRY\", \"GENERAL INQUIRY\") to simplify analysis and improve clarity.\n",
    "- ⏱️ **Customer Journey Mapping**: Use the common reasons and their time distribution to **map typical customer support journeys**, allowing for **proactive engagement** in future.\n"
   ]
  },
  {
   "cell_type": "code",
   "execution_count": 22,
   "id": "3dc12a19",
   "metadata": {},
   "outputs": [
    {
     "name": "stderr",
     "output_type": "stream",
     "text": [
      "C:\\Users\\hp\\AppData\\Local\\Temp\\ipykernel_18168\\1627497645.py:17: FutureWarning: \n",
      "\n",
      "Passing `palette` without assigning `hue` is deprecated and will be removed in v0.14.0. Assign the `y` variable to `hue` and set `legend=False` for the same effect.\n",
      "\n",
      "  sns.barplot(x=top_responses.values, y=top_responses.index, palette=green_palette)\n",
      "C:\\Users\\hp\\AppData\\Local\\Temp\\ipykernel_18168\\1627497645.py:35: FutureWarning: \n",
      "\n",
      "Passing `palette` without assigning `hue` is deprecated and will be removed in v0.14.0. Assign the `x` variable to `hue` and set `legend=False` for the same effect.\n",
      "\n",
      "  sns.barplot(\n"
     ]
    },
    {
     "data": {
      "image/png": "[encoded data removed]",
      "text/plain": [
       "<Figure size 800x500 with 1 Axes>"
      ]
     },
     "metadata": {},
     "output_type": "display_data"
    }
   ],
   "source": [
    "import matplotlib.pyplot as plt\n",
    "import seaborn as sns\n",
    "from collections import Counter\n",
    "\n",
    "# Create Output folder if it doesn't exist\n",
    "import os\n",
    "os.makedirs(\"Output\", exist_ok=True)\n",
    "\n",
    "# Set green-themed palette\n",
    "green_palette = sns.color_palette(\"Greens_r\", 15)\n",
    "\n",
    "# Top 15 most frequent responses\n",
    "top_responses = calldata[\"RESPONSE GIVEN/CONCLUSION\"].value_counts().nlargest(15)\n",
    "\n",
    "# Plot top 15 responses\n",
    "plt.figure(figsize=(12, 6))\n",
    "sns.barplot(x=top_responses.values, y=top_responses.index, palette=green_palette)\n",
    "plt.title(\"Top 15 Most Common Responses\", fontsize=14, weight=\"bold\")\n",
    "plt.xlabel(\"Number of Calls\")\n",
    "plt.ylabel(\"Response\")\n",
    "plt.tight_layout()\n",
    "plt.savefig(\"Output/top_15_responses.png\")\n",
    "plt.close()\n",
    "\n",
    "# Most common response by call_period\n",
    "most_common_response_by_period = (\n",
    "    calldata.groupby(\"call_period\")[\"RESPONSE GIVEN/CONCLUSION\"]\n",
    "    .agg(lambda x: Counter(x).most_common(1)[0][0])\n",
    "    .reset_index()\n",
    "    .rename(columns={\"RESPONSE GIVEN/CONCLUSION\": \"Most_Common_Response\"})\n",
    ")\n",
    "\n",
    "# Plot the most common response by period\n",
    "plt.figure(figsize=(8, 5))\n",
    "sns.barplot(\n",
    "    data=most_common_response_by_period,\n",
    "    x=\"call_period\",\n",
    "    y=\"Most_Common_Response\",\n",
    "    palette=\"Greens\"\n",
    ")\n",
    "plt.title(\"Most Common Response by Call Period\", fontsize=14, weight=\"bold\")\n",
    "plt.xlabel(\"Call Period\")\n",
    "plt.ylabel(\"Most Frequent Response\")\n",
    "plt.tight_layout()\n",
    "plt.savefig(\"Output/common_response_by_period.png\")\n",
    "\n"
   ]
  },
  {
   "cell_type": "code",
   "execution_count": 23,
   "id": "4307811d",
   "metadata": {},
   "outputs": [
    {
     "data": {
      "image/png": "[encoded data removed]",
      "text/plain": [
       "<Figure size 1200x600 with 1 Axes>"
      ]
     },
     "metadata": {},
     "output_type": "display_data"
    }
   ],
   "source": [
    "import os\n",
    "import matplotlib.pyplot as plt\n",
    "\n",
    "# Create output folder if it doesn't exist\n",
    "os.makedirs(\"Output\", exist_ok=True)\n",
    "\n",
    "# Ensure top_reasons is a proper Series with both index and values\n",
    "top_reasons = calldata['REASON FOR CALL'].value_counts().head(10)\n",
    "\n",
    "# Plot\n",
    "plt.figure(figsize=(12, 6))\n",
    "plt.hlines(y=top_reasons.index.tolist(), xmin=0, xmax=top_reasons.values, color='#a8ddb5', linewidth=2)\n",
    "plt.plot(top_reasons.values, top_reasons.index.tolist(), \"o\", color='#006d2c', markersize=10)\n",
    "\n",
    "# Style\n",
    "plt.title('Lollipop Chart: Top 10 Reasons for Customer Calls', fontsize=16, weight='bold')\n",
    "plt.xlabel('Number of Calls')\n",
    "plt.grid(axis='x', linestyle='--', alpha=0.5)\n",
    "plt.tight_layout()\n",
    "\n",
    "# Save in HD\n",
    "plt.savefig(\"Output/lollipop_top_reasons_green.png\", dpi=300, bbox_inches='tight')\n",
    "\n",
    "# Show plot\n",
    "plt.show()\n"
   ]
  },
  {
   "cell_type": "code",
   "execution_count": 24,
   "id": "d42440aa",
   "metadata": {},
   "outputs": [
    {
     "name": "stdout",
     "output_type": "stream",
     "text": [
      "Requirement already satisfied: plotly in c:\\users\\hp\\anaconda33\\lib\\site-packages (5.24.1)\n",
      "Requirement already satisfied: tenacity>=6.2.0 in c:\\users\\hp\\anaconda33\\lib\\site-packages (from plotly) (8.2.3)\n",
      "Requirement already satisfied: packaging in c:\\users\\hp\\anaconda33\\lib\\site-packages (from plotly) (24.1)\n"
     ]
    }
   ],
   "source": [
    "!pip install plotly\n"
   ]
  },
  {
   "cell_type": "code",
   "execution_count": 25,
   "id": "01f79a50",
   "metadata": {},
   "outputs": [
    {
     "name": "stderr",
     "output_type": "stream",
     "text": [
      "C:\\Users\\hp\\AppData\\Local\\Temp\\ipykernel_18168\\2873521336.py:27: DeprecationWarning: DataFrameGroupBy.apply operated on the grouping columns. This behavior is deprecated, and in a future version of pandas the grouping columns will be excluded from the operation. Either pass `include_groups=False` to exclude the groupings or explicitly select the grouping columns after groupby to silence this warning.\n",
      "  .apply(lambda x: x.nlargest(3, 'count'))\n",
      "c:\\Users\\hp\\anaconda33\\Lib\\site-packages\\kaleido\\__init__.py:14: UserWarning:\n",
      "\n",
      "\n",
      "\n",
      "Warning: You have Plotly version 5.24.1, which is not compatible with this version of Kaleido (1.0.0).\n",
      "\n",
      "This means that static image generation (e.g. `fig.write_image()`) will not work.\n",
      "\n",
      "Please upgrade Plotly to version 6.1.1 or greater, or downgrade Kaleido to version 0.2.1.\n",
      "\n",
      "\n"
     ]
    },
    {
     "data": {
      "application/vnd.plotly.v1+json": {
       "config": {
        "plotlyServerURL": "https://plot.ly"
       },
       "data": [
        {
         "branchvalues": "total",
         "customdata": [
          [
           "Inquiry on Upholstery"
          ],
          [
           "Inquiry on closing time"
          ],
          [
           "Inquiry on opening time"
          ],
          [
           "Inquiry on packages"
          ],
          [
           "Looking for a job"
          ],
          [
           "Inquiry on opening time"
          ],
          [
           "Inquiry on Upholstery"
          ],
          [
           "Inquiry on packages"
          ],
          [
           "Looking for a job"
          ],
          [
           "Looking for a job"
          ],
          [
           "Inquiry on Upholstery"
          ],
          [
           "Inquiry on closing time"
          ],
          [
           "Inquiry on opening time"
          ],
          [
           "Inquiry on Upholstery"
          ],
          [
           "Inquiry on closing time"
          ],
          [
           "Inquiry on opening time"
          ],
          [
           "Inquiry on packages"
          ],
          [
           "Looking for a job"
          ]
         ],
         "domain": {
          "x": [
           0,
           1
          ],
          "y": [
           0,
           1
          ]
         },
         "hovertemplate": "labels=%{label}<br>count=%{value}<br>parent=%{parent}<br>id=%{id}<br>REASON FOR CALL=%{customdata[0]}<extra></extra>",
         "ids": [
          "Inquiry on Upholstery/Advised",
          "Inquiry on closing time/Advised",
          "Inquiry on opening time/Advised",
          "Inquiry on packages/Advised",
          "Looking for a job/Advised",
          "Inquiry on opening time/Advised 8.00AM",
          "Inquiry on Upholstery/Assisted",
          "Inquiry on packages/Assisted",
          "Looking for a job/For Human Resource",
          "Looking for a job/Forwarded to Phillip",
          "Inquiry on Upholstery/Not Recorded",
          "Inquiry on closing time/Not Recorded",
          "Inquiry on opening time/Supervisor picked clients key at Java",
          "Inquiry on Upholstery",
          "Inquiry on closing time",
          "Inquiry on opening time",
          "Inquiry on packages",
          "Looking for a job"
         ],
         "labels": [
          "Advised",
          "Advised",
          "Advised",
          "Advised",
          "Advised",
          "Advised 8.00AM",
          "Assisted",
          "Assisted",
          "For Human Resource",
          "Forwarded to Phillip",
          "Not Recorded",
          "Not Recorded",
          "Supervisor picked clients key at Java",
          "Inquiry on Upholstery",
          "Inquiry on closing time",
          "Inquiry on opening time",
          "Inquiry on packages",
          "Looking for a job"
         ],
         "marker": {
          "colors": [
           "rgb(247,252,245)",
           "rgb(229,245,224)",
           "rgb(199,233,192)",
           "rgb(161,217,155)",
           "rgb(116,196,118)",
           "rgb(199,233,192)",
           "rgb(247,252,245)",
           "rgb(161,217,155)",
           "rgb(116,196,118)",
           "rgb(116,196,118)",
           "rgb(247,252,245)",
           "rgb(229,245,224)",
           "rgb(199,233,192)",
           "rgb(247,252,245)",
           "rgb(229,245,224)",
           "rgb(199,233,192)",
           "rgb(161,217,155)",
           "rgb(116,196,118)"
          ]
         },
         "name": "",
         "parents": [
          "Inquiry on Upholstery",
          "Inquiry on closing time",
          "Inquiry on opening time",
          "Inquiry on packages",
          "Looking for a job",
          "Inquiry on opening time",
          "Inquiry on Upholstery",
          "Inquiry on packages",
          "Looking for a job",
          "Looking for a job",
          "Inquiry on Upholstery",
          "Inquiry on closing time",
          "Inquiry on opening time",
          "",
          "",
          "",
          "",
          ""
         ],
         "type": "sunburst",
         "values": [
          64,
          40,
          32,
          74,
          6,
          1,
          1,
          2,
          34,
          4,
          1,
          1,
          1,
          66,
          41,
          34,
          76,
          44
         ]
        }
       ],
       "layout": {
        "legend": {
         "tracegroupgap": 0
        },
        "sunburstcolorway": [
         "rgb(247,252,245)",
         "rgb(229,245,224)",
         "rgb(199,233,192)",
         "rgb(161,217,155)",
         "rgb(116,196,118)",
         "rgb(65,171,93)",
         "rgb(35,139,69)",
         "rgb(0,109,44)",
         "rgb(0,68,27)"
        ],
        "template": {
         "data": {
          "bar": [
           {
            "error_x": {
             "color": "#2a3f5f"
            },
            "error_y": {
             "color": "#2a3f5f"
            },
            "marker": {
             "line": {
              "color": "#E5ECF6",
              "width": 0.5
             },
             "pattern": {
              "fillmode": "overlay",
              "size": 10,
              "solidity": 0.2
             }
            },
            "type": "bar"
           }
          ],
          "barpolar": [
           {
            "marker": {
             "line": {
              "color": "#E5ECF6",
              "width": 0.5
             },
             "pattern": {
              "fillmode": "overlay",
              "size": 10,
              "solidity": 0.2
             }
            },
            "type": "barpolar"
           }
          ],
          "carpet": [
           {
            "aaxis": {
             "endlinecolor": "#2a3f5f",
             "gridcolor": "white",
             "linecolor": "white",
             "minorgridcolor": "white",
             "startlinecolor": "#2a3f5f"
            },
            "baxis": {
             "endlinecolor": "#2a3f5f",
             "gridcolor": "white",
             "linecolor": "white",
             "minorgridcolor": "white",
             "startlinecolor": "#2a3f5f"
            },
            "type": "carpet"
           }
          ],
          "choropleth": [
           {
            "colorbar": {
             "outlinewidth": 0,
             "ticks": ""
            },
            "type": "choropleth"
           }
          ],
          "contour": [
           {
            "colorbar": {
             "outlinewidth": 0,
             "ticks": ""
            },
            "colorscale": [
             [
              0,
              "#0d0887"
             ],
             [
              0.1111111111111111,
              "#46039f"
             ],
             [
              0.2222222222222222,
              "#7201a8"
             ],
             [
              0.3333333333333333,
              "#9c179e"
             ],
             [
              0.4444444444444444,
              "#bd3786"
             ],
             [
              0.5555555555555556,
              "#d8576b"
             ],
             [
              0.6666666666666666,
              "#ed7953"
             ],
             [
              0.7777777777777778,
              "#fb9f3a"
             ],
             [
              0.8888888888888888,
              "#fdca26"
             ],
             [
              1,
              "#f0f921"
             ]
            ],
            "type": "contour"
           }
          ],
          "contourcarpet": [
           {
            "colorbar": {
             "outlinewidth": 0,
             "ticks": ""
            },
            "type": "contourcarpet"
           }
          ],
          "heatmap": [
           {
            "colorbar": {
             "outlinewidth": 0,
             "ticks": ""
            },
            "colorscale": [
             [
              0,
              "#0d0887"
             ],
             [
              0.1111111111111111,
              "#46039f"
             ],
             [
              0.2222222222222222,
              "#7201a8"
             ],
             [
              0.3333333333333333,
              "#9c179e"
             ],
             [
              0.4444444444444444,
              "#bd3786"
             ],
             [
              0.5555555555555556,
              "#d8576b"
             ],
             [
              0.6666666666666666,
              "#ed7953"
             ],
             [
              0.7777777777777778,
              "#fb9f3a"
             ],
             [
              0.8888888888888888,
              "#fdca26"
             ],
             [
              1,
              "#f0f921"
             ]
            ],
            "type": "heatmap"
           }
          ],
          "heatmapgl": [
           {
            "colorbar": {
             "outlinewidth": 0,
             "ticks": ""
            },
            "colorscale": [
             [
              0,
              "#0d0887"
             ],
             [
              0.1111111111111111,
              "#46039f"
             ],
             [
              0.2222222222222222,
              "#7201a8"
             ],
             [
              0.3333333333333333,
              "#9c179e"
             ],
             [
              0.4444444444444444,
              "#bd3786"
             ],
             [
              0.5555555555555556,
              "#d8576b"
             ],
             [
              0.6666666666666666,
              "#ed7953"
             ],
             [
              0.7777777777777778,
              "#fb9f3a"
             ],
             [
              0.8888888888888888,
              "#fdca26"
             ],
             [
              1,
              "#f0f921"
             ]
            ],
            "type": "heatmapgl"
           }
          ],
          "histogram": [
           {
            "marker": {
             "pattern": {
              "fillmode": "overlay",
              "size": 10,
              "solidity": 0.2
             }
            },
            "type": "histogram"
           }
          ],
          "histogram2d": [
           {
            "colorbar": {
             "outlinewidth": 0,
             "ticks": ""
            },
            "colorscale": [
             [
              0,
              "#0d0887"
             ],
             [
              0.1111111111111111,
              "#46039f"
             ],
             [
              0.2222222222222222,
              "#7201a8"
             ],
             [
              0.3333333333333333,
              "#9c179e"
             ],
             [
              0.4444444444444444,
              "#bd3786"
             ],
             [
              0.5555555555555556,
              "#d8576b"
             ],
             [
              0.6666666666666666,
              "#ed7953"
             ],
             [
              0.7777777777777778,
              "#fb9f3a"
             ],
             [
              0.8888888888888888,
              "#fdca26"
             ],
             [
              1,
              "#f0f921"
             ]
            ],
            "type": "histogram2d"
           }
          ],
          "histogram2dcontour": [
           {
            "colorbar": {
             "outlinewidth": 0,
             "ticks": ""
            },
            "colorscale": [
             [
              0,
              "#0d0887"
             ],
             [
              0.1111111111111111,
              "#46039f"
             ],
             [
              0.2222222222222222,
              "#7201a8"
             ],
             [
              0.3333333333333333,
              "#9c179e"
             ],
             [
              0.4444444444444444,
              "#bd3786"
             ],
             [
              0.5555555555555556,
              "#d8576b"
             ],
             [
              0.6666666666666666,
              "#ed7953"
             ],
             [
              0.7777777777777778,
              "#fb9f3a"
             ],
             [
              0.8888888888888888,
              "#fdca26"
             ],
             [
              1,
              "#f0f921"
             ]
            ],
            "type": "histogram2dcontour"
           }
          ],
          "mesh3d": [
           {
            "colorbar": {
             "outlinewidth": 0,
             "ticks": ""
            },
            "type": "mesh3d"
           }
          ],
          "parcoords": [
           {
            "line": {
             "colorbar": {
              "outlinewidth": 0,
              "ticks": ""
             }
            },
            "type": "parcoords"
           }
          ],
          "pie": [
           {
            "automargin": true,
            "type": "pie"
           }
          ],
          "scatter": [
           {
            "fillpattern": {
             "fillmode": "overlay",
             "size": 10,
             "solidity": 0.2
            },
            "type": "scatter"
           }
          ],
          "scatter3d": [
           {
            "line": {
             "colorbar": {
              "outlinewidth": 0,
              "ticks": ""
             }
            },
            "marker": {
             "colorbar": {
              "outlinewidth": 0,
              "ticks": ""
             }
            },
            "type": "scatter3d"
           }
          ],
          "scattercarpet": [
           {
            "marker": {
             "colorbar": {
              "outlinewidth": 0,
              "ticks": ""
             }
            },
            "type": "scattercarpet"
           }
          ],
          "scattergeo": [
           {
            "marker": {
             "colorbar": {
              "outlinewidth": 0,
              "ticks": ""
             }
            },
            "type": "scattergeo"
           }
          ],
          "scattergl": [
           {
            "marker": {
             "colorbar": {
              "outlinewidth": 0,
              "ticks": ""
             }
            },
            "type": "scattergl"
           }
          ],
          "scattermapbox": [
           {
            "marker": {
             "colorbar": {
              "outlinewidth": 0,
              "ticks": ""
             }
            },
            "type": "scattermapbox"
           }
          ],
          "scatterpolar": [
           {
            "marker": {
             "colorbar": {
              "outlinewidth": 0,
              "ticks": ""
             }
            },
            "type": "scatterpolar"
           }
          ],
          "scatterpolargl": [
           {
            "marker": {
             "colorbar": {
              "outlinewidth": 0,
              "ticks": ""
             }
            },
            "type": "scatterpolargl"
           }
          ],
          "scatterternary": [
           {
            "marker": {
             "colorbar": {
              "outlinewidth": 0,
              "ticks": ""
             }
            },
            "type": "scatterternary"
           }
          ],
          "surface": [
           {
            "colorbar": {
             "outlinewidth": 0,
             "ticks": ""
            },
            "colorscale": [
             [
              0,
              "#0d0887"
             ],
             [
              0.1111111111111111,
              "#46039f"
             ],
             [
              0.2222222222222222,
              "#7201a8"
             ],
             [
              0.3333333333333333,
              "#9c179e"
             ],
             [
              0.4444444444444444,
              "#bd3786"
             ],
             [
              0.5555555555555556,
              "#d8576b"
             ],
             [
              0.6666666666666666,
              "#ed7953"
             ],
             [
              0.7777777777777778,
              "#fb9f3a"
             ],
             [
              0.8888888888888888,
              "#fdca26"
             ],
             [
              1,
              "#f0f921"
             ]
            ],
            "type": "surface"
           }
          ],
          "table": [
           {
            "cells": {
             "fill": {
              "color": "#EBF0F8"
             },
             "line": {
              "color": "white"
             }
            },
            "header": {
             "fill": {
              "color": "#C8D4E3"
             },
             "line": {
              "color": "white"
             }
            },
            "type": "table"
           }
          ]
         },
         "layout": {
          "annotationdefaults": {
           "arrowcolor": "#2a3f5f",
           "arrowhead": 0,
           "arrowwidth": 1
          },
          "autotypenumbers": "strict",
          "coloraxis": {
           "colorbar": {
            "outlinewidth": 0,
            "ticks": ""
           }
          },
          "colorscale": {
           "diverging": [
            [
             0,
             "#8e0152"
            ],
            [
             0.1,
             "#c51b7d"
            ],
            [
             0.2,
             "#de77ae"
            ],
            [
             0.3,
             "#f1b6da"
            ],
            [
             0.4,
             "#fde0ef"
            ],
            [
             0.5,
             "#f7f7f7"
            ],
            [
             0.6,
             "#e6f5d0"
            ],
            [
             0.7,
             "#b8e186"
            ],
            [
             0.8,
             "#7fbc41"
            ],
            [
             0.9,
             "#4d9221"
            ],
            [
             1,
             "#276419"
            ]
           ],
           "sequential": [
            [
             0,
             "#0d0887"
            ],
            [
             0.1111111111111111,
             "#46039f"
            ],
            [
             0.2222222222222222,
             "#7201a8"
            ],
            [
             0.3333333333333333,
             "#9c179e"
            ],
            [
             0.4444444444444444,
             "#bd3786"
            ],
            [
             0.5555555555555556,
             "#d8576b"
            ],
            [
             0.6666666666666666,
             "#ed7953"
            ],
            [
             0.7777777777777778,
             "#fb9f3a"
            ],
            [
             0.8888888888888888,
             "#fdca26"
            ],
            [
             1,
             "#f0f921"
            ]
           ],
           "sequentialminus": [
            [
             0,
             "#0d0887"
            ],
            [
             0.1111111111111111,
             "#46039f"
            ],
            [
             0.2222222222222222,
             "#7201a8"
            ],
            [
             0.3333333333333333,
             "#9c179e"
            ],
            [
             0.4444444444444444,
             "#bd3786"
            ],
            [
             0.5555555555555556,
             "#d8576b"
            ],
            [
             0.6666666666666666,
             "#ed7953"
            ],
            [
             0.7777777777777778,
             "#fb9f3a"
            ],
            [
             0.8888888888888888,
             "#fdca26"
            ],
            [
             1,
             "#f0f921"
            ]
           ]
          },
          "colorway": [
           "#636efa",
           "#EF553B",
           "#00cc96",
           "#ab63fa",
           "#FFA15A",
           "#19d3f3",
           "#FF6692",
           "#B6E880",
           "#FF97FF",
           "#FECB52"
          ],
          "font": {
           "color": "#2a3f5f"
          },
          "geo": {
           "bgcolor": "white",
           "lakecolor": "white",
           "landcolor": "#E5ECF6",
           "showlakes": true,
           "showland": true,
           "subunitcolor": "white"
          },
          "hoverlabel": {
           "align": "left"
          },
          "hovermode": "closest",
          "mapbox": {
           "style": "light"
          },
          "paper_bgcolor": "white",
          "plot_bgcolor": "#E5ECF6",
          "polar": {
           "angularaxis": {
            "gridcolor": "white",
            "linecolor": "white",
            "ticks": ""
           },
           "bgcolor": "#E5ECF6",
           "radialaxis": {
            "gridcolor": "white",
            "linecolor": "white",
            "ticks": ""
           }
          },
          "scene": {
           "xaxis": {
            "backgroundcolor": "#E5ECF6",
            "gridcolor": "white",
            "gridwidth": 2,
            "linecolor": "white",
            "showbackground": true,
            "ticks": "",
            "zerolinecolor": "white"
           },
           "yaxis": {
            "backgroundcolor": "#E5ECF6",
            "gridcolor": "white",
            "gridwidth": 2,
            "linecolor": "white",
            "showbackground": true,
            "ticks": "",
            "zerolinecolor": "white"
           },
           "zaxis": {
            "backgroundcolor": "#E5ECF6",
            "gridcolor": "white",
            "gridwidth": 2,
            "linecolor": "white",
            "showbackground": true,
            "ticks": "",
            "zerolinecolor": "white"
           }
          },
          "shapedefaults": {
           "line": {
            "color": "#2a3f5f"
           }
          },
          "ternary": {
           "aaxis": {
            "gridcolor": "white",
            "linecolor": "white",
            "ticks": ""
           },
           "baxis": {
            "gridcolor": "white",
            "linecolor": "white",
            "ticks": ""
           },
           "bgcolor": "#E5ECF6",
           "caxis": {
            "gridcolor": "white",
            "linecolor": "white",
            "ticks": ""
           }
          },
          "title": {
           "x": 0.05
          },
          "xaxis": {
           "automargin": true,
           "gridcolor": "white",
           "linecolor": "white",
           "ticks": "",
           "title": {
            "standoff": 15
           },
           "zerolinecolor": "white",
           "zerolinewidth": 2
          },
          "yaxis": {
           "automargin": true,
           "gridcolor": "white",
           "linecolor": "white",
           "ticks": "",
           "title": {
            "standoff": 15
           },
           "zerolinecolor": "white",
           "zerolinewidth": 2
          }
         }
        },
        "title": {
         "text": "Simplified Sunburst Chart: Top 5 Reasons → Top 3 Responses"
        }
       }
      }
     },
     "metadata": {},
     "output_type": "display_data"
    },
    {
     "name": "stdout",
     "output_type": "stream",
     "text": [
      "✅ Saved: Output/simplified_sunburst.html\n"
     ]
    }
   ],
   "source": [
    "import pandas as pd\n",
    "import plotly.express as px\n",
    "import os\n",
    "\n",
    "# ✅ Ensure 'Output' directory exists to save charts\n",
    "os.makedirs(\"Output\", exist_ok=True)\n",
    "\n",
    "# Step 1: Count all REASON → RESPONSE combinations\n",
    "combo_counts = (\n",
    "    calldata.groupby(['REASON FOR CALL', 'RESPONSE GIVEN/CONCLUSION'])\n",
    "    .size()\n",
    "    .reset_index(name='count')\n",
    ")\n",
    "\n",
    "# Step 2: Select Top 5 most frequent reasons for calling\n",
    "top_reasons = (\n",
    "    combo_counts.groupby('REASON FOR CALL')['count']\n",
    "    .sum()\n",
    "    .nlargest(5)\n",
    "    .index\n",
    ")\n",
    "filtered = combo_counts[combo_counts['REASON FOR CALL'].isin(top_reasons)]\n",
    "\n",
    "# Step 3: For each top reason, retain only its Top 3 most frequent responses\n",
    "filtered = (\n",
    "    filtered.groupby('REASON FOR CALL', group_keys=False)\n",
    "    .apply(lambda x: x.nlargest(3, 'count'))\n",
    "    .reset_index(drop=True)\n",
    ")\n",
    "\n",
    "# Step 4: Create sunburst chart\n",
    "fig = px.sunburst(\n",
    "    filtered,\n",
    "    path=['REASON FOR CALL', 'RESPONSE GIVEN/CONCLUSION'],\n",
    "    values='count',\n",
    "    color='REASON FOR CALL',\n",
    "    color_discrete_sequence=px.colors.sequential.Greens,\n",
    "    title='Simplified Sunburst Chart: Top 5 Reasons → Top 3 Responses'\n",
    ")\n",
    "\n",
    "# Display chart\n",
    "fig.show()\n",
    "\n",
    "# Save chart as HTML\n",
    "fig.write_html(\"Output/simplified_sunburst.html\")\n",
    "print(\"✅ Saved: Output/simplified_sunburst.html\")\n"
   ]
  },
  {
   "cell_type": "code",
   "execution_count": 30,
   "id": "1e80620d",
   "metadata": {},
   "outputs": [
    {
     "name": "stderr",
     "output_type": "stream",
     "text": [
      "C:\\Users\\hp\\AppData\\Local\\Temp\\ipykernel_18168\\612356689.py:31: DeprecationWarning:\n",
      "\n",
      "DataFrameGroupBy.apply operated on the grouping columns. This behavior is deprecated, and in a future version of pandas the grouping columns will be excluded from the operation. Either pass `include_groups=False` to exclude the groupings or explicitly select the grouping columns after groupby to silence this warning.\n",
      "\n"
     ]
    },
    {
     "name": "stdout",
     "output_type": "stream",
     "text": [
      "✅ Saved HTML: Output/simplified_sunburst.html\n",
      "✅ Saved JPG: Output/simplified_sunburst.jpg\n"
     ]
    }
   ],
   "source": [
    "import pandas as pd\n",
    "import plotly.express as px\n",
    "import os\n",
    "from selenium import webdriver\n",
    "from selenium.webdriver.chrome.options import Options\n",
    "from PIL import Image\n",
    "import time\n",
    "\n",
    "# ✅ Ensure 'Output' directory exists\n",
    "os.makedirs(\"Output\", exist_ok=True)\n",
    "\n",
    "# Step 1: Count all REASON → RESPONSE combinations\n",
    "combo_counts = (\n",
    "    calldata.groupby(['REASON FOR CALL', 'RESPONSE GIVEN/CONCLUSION'])\n",
    "    .size()\n",
    "    .reset_index(name='count')\n",
    ")\n",
    "\n",
    "# Step 2: Select Top 5 most frequent reasons for calling\n",
    "top_reasons = (\n",
    "    combo_counts.groupby('REASON FOR CALL')['count']\n",
    "    .sum()\n",
    "    .nlargest(5)\n",
    "    .index\n",
    ")\n",
    "filtered = combo_counts[combo_counts['REASON FOR CALL'].isin(top_reasons)]\n",
    "\n",
    "# Step 3: For each top reason, retain only its Top 3 most frequent responses\n",
    "filtered = (\n",
    "    filtered.groupby('REASON FOR CALL', group_keys=False)\n",
    "    .apply(lambda x: x.nlargest(3, 'count'))\n",
    "    .reset_index(drop=True)\n",
    ")\n",
    "\n",
    "# Step 4: Create sunburst chart\n",
    "fig = px.sunburst(\n",
    "    filtered,\n",
    "    path=['REASON FOR CALL', 'RESPONSE GIVEN/CONCLUSION'],\n",
    "    values='count',\n",
    "    color='REASON FOR CALL',\n",
    "    color_discrete_sequence=px.colors.sequential.Greens,\n",
    "    title='Simplified Sunburst Chart: Top 5 Reasons → Top 3 Responses'\n",
    ")\n",
    "\n",
    "# Save as HTML for rendering\n",
    "html_path = \"Output/simplified_sunburst.html\"\n",
    "fig.write_html(html_path)\n",
    "print(\"✅ Saved HTML:\", html_path)\n",
    "\n",
    "# Set up Selenium Chrome driver (headless)\n",
    "chrome_options = Options()\n",
    "chrome_options.add_argument(\"--headless\")\n",
    "chrome_options.add_argument(\"--window-size=1200,900\")\n",
    "driver = webdriver.Chrome(options=chrome_options)\n",
    "\n",
    "# Open the saved chart\n",
    "driver.get(\"file://\" + os.path.abspath(html_path))\n",
    "time.sleep(2)  # Wait for chart to load\n",
    "\n",
    "# Take screenshot\n",
    "screenshot_path = \"Output/simplified_sunburst.png\"\n",
    "driver.save_screenshot(screenshot_path)\n",
    "driver.quit()\n",
    "\n",
    "# Convert screenshot to JPG\n",
    "img = Image.open(screenshot_path).convert(\"RGB\")\n",
    "jpg_path = \"Output/simplified_sunburst.jpg\"\n",
    "img.save(jpg_path, \"JPEG\", quality=95)\n",
    "\n",
    "print(\"✅ Saved JPG:\", jpg_path)\n"
   ]
  }
 ],
 "metadata": {
  "kernelspec": {
   "display_name": "base",
   "language": "python",
   "name": "python3"
  },
  "language_info": {
   "codemirror_mode": {
    "name": "ipython",
    "version": 3
   },
   "file_extension": ".py",
   "mimetype": "text/x-python",
   "name": "python",
   "nbconvert_exporter": "python",
   "pygments_lexer": "ipython3",
   "version": "3.12.7"
  }
 },
 "nbformat": 4,
 "nbformat_minor": 5
}
